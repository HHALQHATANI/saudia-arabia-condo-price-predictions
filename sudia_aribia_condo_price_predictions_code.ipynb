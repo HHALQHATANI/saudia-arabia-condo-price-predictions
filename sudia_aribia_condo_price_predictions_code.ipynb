{
  "cells": [
    {
      "cell_type": "markdown",
      "metadata": {
        "id": "view-in-github",
        "colab_type": "text"
      },
      "source": [
        "<a href=\"https://colab.research.google.com/github/HHALQHATANI/saudia-arabia-condo-price-predictions/blob/main/sudia_aribia_condo_price_predictions_code.ipynb\" target=\"_parent\"><img src=\"https://colab.research.google.com/assets/colab-badge.svg\" alt=\"Open In Colab\"/></a>"
      ]
    },
    {
      "cell_type": "markdown",
      "id": "a5cbc93e",
      "metadata": {
        "papermill": {
          "duration": 0.013286,
          "end_time": "2023-12-06T14:38:08.513370",
          "exception": false,
          "start_time": "2023-12-06T14:38:08.500084",
          "status": "completed"
        },
        "tags": [],
        "id": "a5cbc93e"
      },
      "source": [
        "# A bout the data :\n",
        "We make scraping the data from the Aribnb web site from suadi the data have sevene columns :\n",
        "- url: the url of the items that have all the data\n",
        "- name: the name of department\n",
        "- header: the loaction of the place\n",
        "- beds: the numbers of the beds in the departments\n",
        "- bedrooms : the numbers of the rooms in departments\n",
        "- date_range: how many day you will be stay in the departments\n",
        "- price:  the price of staying in  the department\n",
        "- rating: the rating of the people a bout the place"
      ]
    },
    {
      "cell_type": "markdown",
      "id": "c5b7dbce",
      "metadata": {
        "papermill": {
          "duration": 0.012509,
          "end_time": "2023-12-06T14:38:08.539438",
          "exception": false,
          "start_time": "2023-12-06T14:38:08.526929",
          "status": "completed"
        },
        "tags": [],
        "id": "c5b7dbce"
      },
      "source": [
        "**import libraries**"
      ]
    },
    {
      "cell_type": "code",
      "execution_count": 1,
      "id": "43a8e771",
      "metadata": {
        "execution": {
          "iopub.execute_input": "2023-12-06T14:38:08.567386Z",
          "iopub.status.busy": "2023-12-06T14:38:08.566940Z",
          "iopub.status.idle": "2023-12-06T14:38:09.525120Z",
          "shell.execute_reply": "2023-12-06T14:38:09.523968Z"
        },
        "papermill": {
          "duration": 0.975521,
          "end_time": "2023-12-06T14:38:09.527665",
          "exception": false,
          "start_time": "2023-12-06T14:38:08.552144",
          "status": "completed"
        },
        "tags": [],
        "id": "43a8e771"
      },
      "outputs": [],
      "source": [
        "import numpy as np\n",
        "import pandas as pd\n",
        "import matplotlib.pyplot as plt\n",
        "plt.style.use('ggplot')"
      ]
    },
    {
      "cell_type": "markdown",
      "id": "e2874850",
      "metadata": {
        "papermill": {
          "duration": 0.012658,
          "end_time": "2023-12-06T14:38:09.553430",
          "exception": false,
          "start_time": "2023-12-06T14:38:09.540772",
          "status": "completed"
        },
        "tags": [],
        "id": "e2874850"
      },
      "source": [
        "**Read csv file**"
      ]
    },
    {
      "cell_type": "code",
      "execution_count": 2,
      "id": "c90528a7",
      "metadata": {
        "execution": {
          "iopub.execute_input": "2023-12-06T14:38:09.581953Z",
          "iopub.status.busy": "2023-12-06T14:38:09.580581Z",
          "iopub.status.idle": "2023-12-06T14:38:09.626028Z",
          "shell.execute_reply": "2023-12-06T14:38:09.624721Z"
        },
        "papermill": {
          "duration": 0.062902,
          "end_time": "2023-12-06T14:38:09.629085",
          "exception": false,
          "start_time": "2023-12-06T14:38:09.566183",
          "status": "completed"
        },
        "tags": [],
        "id": "c90528a7"
      },
      "outputs": [],
      "source": [
        "data = pd.read_csv(\"/content/saudi_arabia.csv\")"
      ]
    },
    {
      "cell_type": "markdown",
      "id": "8dd74003",
      "metadata": {
        "papermill": {
          "duration": 0.01292,
          "end_time": "2023-12-06T14:38:09.655457",
          "exception": false,
          "start_time": "2023-12-06T14:38:09.642537",
          "status": "completed"
        },
        "tags": [],
        "id": "8dd74003"
      },
      "source": [
        "**Show the five first rows in the data**"
      ]
    },
    {
      "cell_type": "code",
      "execution_count": 3,
      "id": "a2edfc8a",
      "metadata": {
        "execution": {
          "iopub.execute_input": "2023-12-06T14:38:09.683759Z",
          "iopub.status.busy": "2023-12-06T14:38:09.683355Z",
          "iopub.status.idle": "2023-12-06T14:38:09.710679Z",
          "shell.execute_reply": "2023-12-06T14:38:09.709437Z"
        },
        "papermill": {
          "duration": 0.046322,
          "end_time": "2023-12-06T14:38:09.714714",
          "exception": false,
          "start_time": "2023-12-06T14:38:09.668392",
          "status": "completed"
        },
        "tags": [],
        "colab": {
          "base_uri": "https://localhost:8080/",
          "height": 311
        },
        "id": "a2edfc8a",
        "outputId": "00127270-9ee6-4e36-d9d2-0092f6193ba8"
      },
      "outputs": [
        {
          "output_type": "execute_result",
          "data": {
            "text/plain": [
              "   Unnamed: 0                                          name  \\\n",
              "0           0                 Saleh's Cottage Saleh Cottage   \n",
              "1           1                               Cypress cottage   \n",
              "2           2                                        Qishla   \n",
              "3           3  Exhibitor NeighborhoodThe Green (Self-entry)   \n",
              "4           4                     Mabaat -  Al Narjis - 424   \n",
              "\n",
              "                header                                          beds  \\\n",
              "0       Cabin in Samha                 Saleh's Cottage Saleh Cottage   \n",
              "1         Hut in Tabab                               Cypress cottage   \n",
              "2  Apartment in Riyadh                                        Qishla   \n",
              "3     Chalet in Riyadh  Exhibitor NeighborhoodThe Green (Self-entry)   \n",
              "4  Apartment in Riyadh                     Mabaat -  Al Narjis - 424   \n",
              "\n",
              "                bedrooms   date_range   price      rating  \n",
              "0  6 beds,  · 2 bedrooms  Nov 12 – 17    $266         NaN  \n",
              "1  3 beds,  · 2 bedrooms    May 1 – 6  $1,066         NaN  \n",
              "2  2 beds,  · 2 bedrooms  Dec 15 – 20    $162     5.0 (3)  \n",
              "3     Verified fast wifi  Nov 12 – 17    $205  4.86 (177)  \n",
              "4  3 beds,  · 2 bedrooms  Nov 12 – 17    $244   4.28 (40)  "
            ],
            "text/html": [
              "\n",
              "  <div id=\"df-5ab32096-8316-4750-bfe2-4373670ff40c\" class=\"colab-df-container\">\n",
              "    <div>\n",
              "<style scoped>\n",
              "    .dataframe tbody tr th:only-of-type {\n",
              "        vertical-align: middle;\n",
              "    }\n",
              "\n",
              "    .dataframe tbody tr th {\n",
              "        vertical-align: top;\n",
              "    }\n",
              "\n",
              "    .dataframe thead th {\n",
              "        text-align: right;\n",
              "    }\n",
              "</style>\n",
              "<table border=\"1\" class=\"dataframe\">\n",
              "  <thead>\n",
              "    <tr style=\"text-align: right;\">\n",
              "      <th></th>\n",
              "      <th>Unnamed: 0</th>\n",
              "      <th>name</th>\n",
              "      <th>header</th>\n",
              "      <th>beds</th>\n",
              "      <th>bedrooms</th>\n",
              "      <th>date_range</th>\n",
              "      <th>price</th>\n",
              "      <th>rating</th>\n",
              "    </tr>\n",
              "  </thead>\n",
              "  <tbody>\n",
              "    <tr>\n",
              "      <th>0</th>\n",
              "      <td>0</td>\n",
              "      <td>Saleh's Cottage Saleh Cottage</td>\n",
              "      <td>Cabin in Samha</td>\n",
              "      <td>Saleh's Cottage Saleh Cottage</td>\n",
              "      <td>6 beds,  · 2 bedrooms</td>\n",
              "      <td>Nov 12 – 17</td>\n",
              "      <td>$266</td>\n",
              "      <td>NaN</td>\n",
              "    </tr>\n",
              "    <tr>\n",
              "      <th>1</th>\n",
              "      <td>1</td>\n",
              "      <td>Cypress cottage</td>\n",
              "      <td>Hut in Tabab</td>\n",
              "      <td>Cypress cottage</td>\n",
              "      <td>3 beds,  · 2 bedrooms</td>\n",
              "      <td>May 1 – 6</td>\n",
              "      <td>$1,066</td>\n",
              "      <td>NaN</td>\n",
              "    </tr>\n",
              "    <tr>\n",
              "      <th>2</th>\n",
              "      <td>2</td>\n",
              "      <td>Qishla</td>\n",
              "      <td>Apartment in Riyadh</td>\n",
              "      <td>Qishla</td>\n",
              "      <td>2 beds,  · 2 bedrooms</td>\n",
              "      <td>Dec 15 – 20</td>\n",
              "      <td>$162</td>\n",
              "      <td>5.0 (3)</td>\n",
              "    </tr>\n",
              "    <tr>\n",
              "      <th>3</th>\n",
              "      <td>3</td>\n",
              "      <td>Exhibitor NeighborhoodThe Green (Self-entry)</td>\n",
              "      <td>Chalet in Riyadh</td>\n",
              "      <td>Exhibitor NeighborhoodThe Green (Self-entry)</td>\n",
              "      <td>Verified fast wifi</td>\n",
              "      <td>Nov 12 – 17</td>\n",
              "      <td>$205</td>\n",
              "      <td>4.86 (177)</td>\n",
              "    </tr>\n",
              "    <tr>\n",
              "      <th>4</th>\n",
              "      <td>4</td>\n",
              "      <td>Mabaat -  Al Narjis - 424</td>\n",
              "      <td>Apartment in Riyadh</td>\n",
              "      <td>Mabaat -  Al Narjis - 424</td>\n",
              "      <td>3 beds,  · 2 bedrooms</td>\n",
              "      <td>Nov 12 – 17</td>\n",
              "      <td>$244</td>\n",
              "      <td>4.28 (40)</td>\n",
              "    </tr>\n",
              "  </tbody>\n",
              "</table>\n",
              "</div>\n",
              "    <div class=\"colab-df-buttons\">\n",
              "\n",
              "  <div class=\"colab-df-container\">\n",
              "    <button class=\"colab-df-convert\" onclick=\"convertToInteractive('df-5ab32096-8316-4750-bfe2-4373670ff40c')\"\n",
              "            title=\"Convert this dataframe to an interactive table.\"\n",
              "            style=\"display:none;\">\n",
              "\n",
              "  <svg xmlns=\"http://www.w3.org/2000/svg\" height=\"24px\" viewBox=\"0 -960 960 960\">\n",
              "    <path d=\"M120-120v-720h720v720H120Zm60-500h600v-160H180v160Zm220 220h160v-160H400v160Zm0 220h160v-160H400v160ZM180-400h160v-160H180v160Zm440 0h160v-160H620v160ZM180-180h160v-160H180v160Zm440 0h160v-160H620v160Z\"/>\n",
              "  </svg>\n",
              "    </button>\n",
              "\n",
              "  <style>\n",
              "    .colab-df-container {\n",
              "      display:flex;\n",
              "      gap: 12px;\n",
              "    }\n",
              "\n",
              "    .colab-df-convert {\n",
              "      background-color: #E8F0FE;\n",
              "      border: none;\n",
              "      border-radius: 50%;\n",
              "      cursor: pointer;\n",
              "      display: none;\n",
              "      fill: #1967D2;\n",
              "      height: 32px;\n",
              "      padding: 0 0 0 0;\n",
              "      width: 32px;\n",
              "    }\n",
              "\n",
              "    .colab-df-convert:hover {\n",
              "      background-color: #E2EBFA;\n",
              "      box-shadow: 0px 1px 2px rgba(60, 64, 67, 0.3), 0px 1px 3px 1px rgba(60, 64, 67, 0.15);\n",
              "      fill: #174EA6;\n",
              "    }\n",
              "\n",
              "    .colab-df-buttons div {\n",
              "      margin-bottom: 4px;\n",
              "    }\n",
              "\n",
              "    [theme=dark] .colab-df-convert {\n",
              "      background-color: #3B4455;\n",
              "      fill: #D2E3FC;\n",
              "    }\n",
              "\n",
              "    [theme=dark] .colab-df-convert:hover {\n",
              "      background-color: #434B5C;\n",
              "      box-shadow: 0px 1px 3px 1px rgba(0, 0, 0, 0.15);\n",
              "      filter: drop-shadow(0px 1px 2px rgba(0, 0, 0, 0.3));\n",
              "      fill: #FFFFFF;\n",
              "    }\n",
              "  </style>\n",
              "\n",
              "    <script>\n",
              "      const buttonEl =\n",
              "        document.querySelector('#df-5ab32096-8316-4750-bfe2-4373670ff40c button.colab-df-convert');\n",
              "      buttonEl.style.display =\n",
              "        google.colab.kernel.accessAllowed ? 'block' : 'none';\n",
              "\n",
              "      async function convertToInteractive(key) {\n",
              "        const element = document.querySelector('#df-5ab32096-8316-4750-bfe2-4373670ff40c');\n",
              "        const dataTable =\n",
              "          await google.colab.kernel.invokeFunction('convertToInteractive',\n",
              "                                                    [key], {});\n",
              "        if (!dataTable) return;\n",
              "\n",
              "        const docLinkHtml = 'Like what you see? Visit the ' +\n",
              "          '<a target=\"_blank\" href=https://colab.research.google.com/notebooks/data_table.ipynb>data table notebook</a>'\n",
              "          + ' to learn more about interactive tables.';\n",
              "        element.innerHTML = '';\n",
              "        dataTable['output_type'] = 'display_data';\n",
              "        await google.colab.output.renderOutput(dataTable, element);\n",
              "        const docLink = document.createElement('div');\n",
              "        docLink.innerHTML = docLinkHtml;\n",
              "        element.appendChild(docLink);\n",
              "      }\n",
              "    </script>\n",
              "  </div>\n",
              "\n",
              "\n",
              "<div id=\"df-44adf137-7d96-49cf-b620-c32445621817\">\n",
              "  <button class=\"colab-df-quickchart\" onclick=\"quickchart('df-44adf137-7d96-49cf-b620-c32445621817')\"\n",
              "            title=\"Suggest charts\"\n",
              "            style=\"display:none;\">\n",
              "\n",
              "<svg xmlns=\"http://www.w3.org/2000/svg\" height=\"24px\"viewBox=\"0 0 24 24\"\n",
              "     width=\"24px\">\n",
              "    <g>\n",
              "        <path d=\"M19 3H5c-1.1 0-2 .9-2 2v14c0 1.1.9 2 2 2h14c1.1 0 2-.9 2-2V5c0-1.1-.9-2-2-2zM9 17H7v-7h2v7zm4 0h-2V7h2v10zm4 0h-2v-4h2v4z\"/>\n",
              "    </g>\n",
              "</svg>\n",
              "  </button>\n",
              "\n",
              "<style>\n",
              "  .colab-df-quickchart {\n",
              "      --bg-color: #E8F0FE;\n",
              "      --fill-color: #1967D2;\n",
              "      --hover-bg-color: #E2EBFA;\n",
              "      --hover-fill-color: #174EA6;\n",
              "      --disabled-fill-color: #AAA;\n",
              "      --disabled-bg-color: #DDD;\n",
              "  }\n",
              "\n",
              "  [theme=dark] .colab-df-quickchart {\n",
              "      --bg-color: #3B4455;\n",
              "      --fill-color: #D2E3FC;\n",
              "      --hover-bg-color: #434B5C;\n",
              "      --hover-fill-color: #FFFFFF;\n",
              "      --disabled-bg-color: #3B4455;\n",
              "      --disabled-fill-color: #666;\n",
              "  }\n",
              "\n",
              "  .colab-df-quickchart {\n",
              "    background-color: var(--bg-color);\n",
              "    border: none;\n",
              "    border-radius: 50%;\n",
              "    cursor: pointer;\n",
              "    display: none;\n",
              "    fill: var(--fill-color);\n",
              "    height: 32px;\n",
              "    padding: 0;\n",
              "    width: 32px;\n",
              "  }\n",
              "\n",
              "  .colab-df-quickchart:hover {\n",
              "    background-color: var(--hover-bg-color);\n",
              "    box-shadow: 0 1px 2px rgba(60, 64, 67, 0.3), 0 1px 3px 1px rgba(60, 64, 67, 0.15);\n",
              "    fill: var(--button-hover-fill-color);\n",
              "  }\n",
              "\n",
              "  .colab-df-quickchart-complete:disabled,\n",
              "  .colab-df-quickchart-complete:disabled:hover {\n",
              "    background-color: var(--disabled-bg-color);\n",
              "    fill: var(--disabled-fill-color);\n",
              "    box-shadow: none;\n",
              "  }\n",
              "\n",
              "  .colab-df-spinner {\n",
              "    border: 2px solid var(--fill-color);\n",
              "    border-color: transparent;\n",
              "    border-bottom-color: var(--fill-color);\n",
              "    animation:\n",
              "      spin 1s steps(1) infinite;\n",
              "  }\n",
              "\n",
              "  @keyframes spin {\n",
              "    0% {\n",
              "      border-color: transparent;\n",
              "      border-bottom-color: var(--fill-color);\n",
              "      border-left-color: var(--fill-color);\n",
              "    }\n",
              "    20% {\n",
              "      border-color: transparent;\n",
              "      border-left-color: var(--fill-color);\n",
              "      border-top-color: var(--fill-color);\n",
              "    }\n",
              "    30% {\n",
              "      border-color: transparent;\n",
              "      border-left-color: var(--fill-color);\n",
              "      border-top-color: var(--fill-color);\n",
              "      border-right-color: var(--fill-color);\n",
              "    }\n",
              "    40% {\n",
              "      border-color: transparent;\n",
              "      border-right-color: var(--fill-color);\n",
              "      border-top-color: var(--fill-color);\n",
              "    }\n",
              "    60% {\n",
              "      border-color: transparent;\n",
              "      border-right-color: var(--fill-color);\n",
              "    }\n",
              "    80% {\n",
              "      border-color: transparent;\n",
              "      border-right-color: var(--fill-color);\n",
              "      border-bottom-color: var(--fill-color);\n",
              "    }\n",
              "    90% {\n",
              "      border-color: transparent;\n",
              "      border-bottom-color: var(--fill-color);\n",
              "    }\n",
              "  }\n",
              "</style>\n",
              "\n",
              "  <script>\n",
              "    async function quickchart(key) {\n",
              "      const quickchartButtonEl =\n",
              "        document.querySelector('#' + key + ' button');\n",
              "      quickchartButtonEl.disabled = true;  // To prevent multiple clicks.\n",
              "      quickchartButtonEl.classList.add('colab-df-spinner');\n",
              "      try {\n",
              "        const charts = await google.colab.kernel.invokeFunction(\n",
              "            'suggestCharts', [key], {});\n",
              "      } catch (error) {\n",
              "        console.error('Error during call to suggestCharts:', error);\n",
              "      }\n",
              "      quickchartButtonEl.classList.remove('colab-df-spinner');\n",
              "      quickchartButtonEl.classList.add('colab-df-quickchart-complete');\n",
              "    }\n",
              "    (() => {\n",
              "      let quickchartButtonEl =\n",
              "        document.querySelector('#df-44adf137-7d96-49cf-b620-c32445621817 button');\n",
              "      quickchartButtonEl.style.display =\n",
              "        google.colab.kernel.accessAllowed ? 'block' : 'none';\n",
              "    })();\n",
              "  </script>\n",
              "</div>\n",
              "    </div>\n",
              "  </div>\n"
            ]
          },
          "metadata": {},
          "execution_count": 3
        }
      ],
      "source": [
        "data.head()"
      ]
    },
    {
      "cell_type": "markdown",
      "id": "7d1c11f4",
      "metadata": {
        "papermill": {
          "duration": 0.013888,
          "end_time": "2023-12-06T14:38:09.742575",
          "exception": false,
          "start_time": "2023-12-06T14:38:09.728687",
          "status": "completed"
        },
        "tags": [],
        "id": "7d1c11f4"
      },
      "source": [
        "**shape of the data**"
      ]
    },
    {
      "cell_type": "code",
      "execution_count": 4,
      "id": "5bf6e375",
      "metadata": {
        "execution": {
          "iopub.execute_input": "2023-12-06T14:38:09.771743Z",
          "iopub.status.busy": "2023-12-06T14:38:09.771324Z",
          "iopub.status.idle": "2023-12-06T14:38:09.778246Z",
          "shell.execute_reply": "2023-12-06T14:38:09.777079Z"
        },
        "papermill": {
          "duration": 0.024357,
          "end_time": "2023-12-06T14:38:09.780469",
          "exception": false,
          "start_time": "2023-12-06T14:38:09.756112",
          "status": "completed"
        },
        "tags": [],
        "colab": {
          "base_uri": "https://localhost:8080/"
        },
        "id": "5bf6e375",
        "outputId": "f0793c0b-e4b1-496a-8da9-96fa81aad6f5"
      },
      "outputs": [
        {
          "output_type": "execute_result",
          "data": {
            "text/plain": [
              "(3600, 8)"
            ]
          },
          "metadata": {},
          "execution_count": 4
        }
      ],
      "source": [
        "data.shape"
      ]
    },
    {
      "cell_type": "markdown",
      "id": "a8ec88e5",
      "metadata": {
        "papermill": {
          "duration": 0.01328,
          "end_time": "2023-12-06T14:38:09.807396",
          "exception": false,
          "start_time": "2023-12-06T14:38:09.794116",
          "status": "completed"
        },
        "tags": [],
        "id": "a8ec88e5"
      },
      "source": [
        "**Show how many missing values in the columns**"
      ]
    },
    {
      "cell_type": "code",
      "execution_count": 5,
      "id": "b86ea65a",
      "metadata": {
        "execution": {
          "iopub.execute_input": "2023-12-06T14:38:09.836563Z",
          "iopub.status.busy": "2023-12-06T14:38:09.835918Z",
          "iopub.status.idle": "2023-12-06T14:38:09.847856Z",
          "shell.execute_reply": "2023-12-06T14:38:09.846570Z"
        },
        "papermill": {
          "duration": 0.029639,
          "end_time": "2023-12-06T14:38:09.850329",
          "exception": false,
          "start_time": "2023-12-06T14:38:09.820690",
          "status": "completed"
        },
        "tags": [],
        "colab": {
          "base_uri": "https://localhost:8080/"
        },
        "id": "b86ea65a",
        "outputId": "42821eef-7894-43a6-a317-ba656acea372"
      },
      "outputs": [
        {
          "output_type": "execute_result",
          "data": {
            "text/plain": [
              "Unnamed: 0      0\n",
              "name            0\n",
              "header          0\n",
              "beds            0\n",
              "bedrooms        0\n",
              "date_range      0\n",
              "price         854\n",
              "rating         46\n",
              "dtype: int64"
            ]
          },
          "metadata": {},
          "execution_count": 5
        }
      ],
      "source": [
        "data.isnull().sum()"
      ]
    },
    {
      "cell_type": "markdown",
      "id": "aadca199",
      "metadata": {
        "papermill": {
          "duration": 0.013702,
          "end_time": "2023-12-06T14:38:09.939543",
          "exception": false,
          "start_time": "2023-12-06T14:38:09.925841",
          "status": "completed"
        },
        "tags": [],
        "id": "aadca199"
      },
      "source": [
        "**Drop all the none value in the rows**"
      ]
    },
    {
      "cell_type": "code",
      "execution_count": 6,
      "id": "064fcb56",
      "metadata": {
        "execution": {
          "iopub.execute_input": "2023-12-06T14:38:09.970116Z",
          "iopub.status.busy": "2023-12-06T14:38:09.969106Z",
          "iopub.status.idle": "2023-12-06T14:38:09.981774Z",
          "shell.execute_reply": "2023-12-06T14:38:09.980785Z"
        },
        "papermill": {
          "duration": 0.030797,
          "end_time": "2023-12-06T14:38:09.984276",
          "exception": false,
          "start_time": "2023-12-06T14:38:09.953479",
          "status": "completed"
        },
        "tags": [],
        "id": "064fcb56"
      },
      "outputs": [],
      "source": [
        "data.dropna(inplace=True)"
      ]
    },
    {
      "cell_type": "markdown",
      "id": "ce22a9cf",
      "metadata": {
        "papermill": {
          "duration": 0.013282,
          "end_time": "2023-12-06T14:38:10.011243",
          "exception": false,
          "start_time": "2023-12-06T14:38:09.997961",
          "status": "completed"
        },
        "tags": [],
        "id": "ce22a9cf"
      },
      "source": [
        "**Here we can extract new features from bedrooms column the first numbers of the beds and the second the numbers of the rooms and others featrues**"
      ]
    },
    {
      "cell_type": "code",
      "execution_count": 7,
      "id": "43142386",
      "metadata": {
        "execution": {
          "iopub.execute_input": "2023-12-06T14:38:10.040695Z",
          "iopub.status.busy": "2023-12-06T14:38:10.039938Z",
          "iopub.status.idle": "2023-12-06T14:38:10.058703Z",
          "shell.execute_reply": "2023-12-06T14:38:10.057459Z"
        },
        "papermill": {
          "duration": 0.036447,
          "end_time": "2023-12-06T14:38:10.061378",
          "exception": false,
          "start_time": "2023-12-06T14:38:10.024931",
          "status": "completed"
        },
        "tags": [],
        "id": "43142386"
      },
      "outputs": [],
      "source": [
        "# Extract number of beds and number of bedrooms\n",
        "data[['num_beds', 'num_bedrooms']] = data['bedrooms'].str.extract('(\\d+) beds.*?(\\d+) bedrooms').fillna(1)"
      ]
    },
    {
      "cell_type": "markdown",
      "id": "af39d7dd",
      "metadata": {
        "papermill": {
          "duration": 0.013216,
          "end_time": "2023-12-06T14:38:10.088317",
          "exception": false,
          "start_time": "2023-12-06T14:38:10.075101",
          "status": "completed"
        },
        "tags": [],
        "id": "af39d7dd"
      },
      "source": [
        "**Fix the price values and delete the Doller sign and convert it to float type**"
      ]
    },
    {
      "cell_type": "code",
      "execution_count": 8,
      "id": "f4e1d1b3",
      "metadata": {
        "execution": {
          "iopub.execute_input": "2023-12-06T14:38:10.117071Z",
          "iopub.status.busy": "2023-12-06T14:38:10.116653Z",
          "iopub.status.idle": "2023-12-06T14:38:10.134558Z",
          "shell.execute_reply": "2023-12-06T14:38:10.133723Z"
        },
        "papermill": {
          "duration": 0.034615,
          "end_time": "2023-12-06T14:38:10.136559",
          "exception": false,
          "start_time": "2023-12-06T14:38:10.101944",
          "status": "completed"
        },
        "tags": [],
        "colab": {
          "base_uri": "https://localhost:8080/"
        },
        "id": "f4e1d1b3",
        "outputId": "c5a57357-b912-47eb-8622-7628b1330423"
      },
      "outputs": [
        {
          "output_type": "execute_result",
          "data": {
            "text/plain": [
              "2    162.0\n",
              "3    205.0\n",
              "4    244.0\n",
              "Name: price, dtype: float64"
            ]
          },
          "metadata": {},
          "execution_count": 8
        }
      ],
      "source": [
        "data['price'] = data['price'].replace('[\\$,]', '', regex=True).astype(float)\n",
        "data['price'].head(3)"
      ]
    },
    {
      "cell_type": "markdown",
      "id": "407d05af",
      "metadata": {
        "papermill": {
          "duration": 0.01477,
          "end_time": "2023-12-06T14:38:10.165406",
          "exception": false,
          "start_time": "2023-12-06T14:38:10.150636",
          "status": "completed"
        },
        "tags": [],
        "id": "407d05af"
      },
      "source": [
        "**This column has to value the first number represent the rating of place and the second represent the numbers of commints**"
      ]
    },
    {
      "cell_type": "code",
      "execution_count": 9,
      "id": "b133cbf5",
      "metadata": {
        "execution": {
          "iopub.execute_input": "2023-12-06T14:38:10.197572Z",
          "iopub.status.busy": "2023-12-06T14:38:10.196397Z",
          "iopub.status.idle": "2023-12-06T14:38:10.204704Z",
          "shell.execute_reply": "2023-12-06T14:38:10.203584Z"
        },
        "papermill": {
          "duration": 0.027102,
          "end_time": "2023-12-06T14:38:10.207073",
          "exception": false,
          "start_time": "2023-12-06T14:38:10.179971",
          "status": "completed"
        },
        "tags": [],
        "colab": {
          "base_uri": "https://localhost:8080/"
        },
        "id": "b133cbf5",
        "outputId": "85283325-1e64-40fd-fbdf-7a6e844e6344"
      },
      "outputs": [
        {
          "output_type": "execute_result",
          "data": {
            "text/plain": [
              "2       5.0 (3)\n",
              "3    4.86 (177)\n",
              "Name: rating, dtype: object"
            ]
          },
          "metadata": {},
          "execution_count": 9
        }
      ],
      "source": [
        "data['rating'].head(2)"
      ]
    },
    {
      "cell_type": "code",
      "execution_count": 10,
      "id": "e1d26c1d",
      "metadata": {
        "execution": {
          "iopub.execute_input": "2023-12-06T14:38:10.237817Z",
          "iopub.status.busy": "2023-12-06T14:38:10.237046Z",
          "iopub.status.idle": "2023-12-06T14:38:10.259893Z",
          "shell.execute_reply": "2023-12-06T14:38:10.258597Z"
        },
        "papermill": {
          "duration": 0.041081,
          "end_time": "2023-12-06T14:38:10.262351",
          "exception": false,
          "start_time": "2023-12-06T14:38:10.221270",
          "status": "completed"
        },
        "tags": [],
        "colab": {
          "base_uri": "https://localhost:8080/"
        },
        "id": "e1d26c1d",
        "outputId": "5a00c105-dca4-474e-fd30-617c4285f48d"
      },
      "outputs": [
        {
          "output_type": "stream",
          "name": "stdout",
          "text": [
            "   ratingg  num_comments\n",
            "2     5.00           3.0\n",
            "3     4.86         177.0\n"
          ]
        }
      ],
      "source": [
        "# Assuming your DataFrame is named 'df' and the column is 'rating_and_comments'\n",
        "data['ratingg'] = data['rating'].str.extract(r'(\\d+\\.\\d+)').astype(float)\n",
        "data['num_comments'] = data['rating'].str.extract(r'\\((\\d+)\\)').astype(float)\n",
        "\n",
        "# Display the resulting DataFrame\n",
        "print(data[['ratingg', 'num_comments']].head(2))"
      ]
    },
    {
      "cell_type": "markdown",
      "id": "58ca7925",
      "metadata": {
        "papermill": {
          "duration": 0.01351,
          "end_time": "2023-12-06T14:38:10.289813",
          "exception": false,
          "start_time": "2023-12-06T14:38:10.276303",
          "status": "completed"
        },
        "tags": [],
        "id": "58ca7925"
      },
      "source": [
        "**Drop unusefull columns after extracting of the new features**"
      ]
    },
    {
      "cell_type": "code",
      "execution_count": 11,
      "id": "53158dd4",
      "metadata": {
        "execution": {
          "iopub.execute_input": "2023-12-06T14:38:10.319426Z",
          "iopub.status.busy": "2023-12-06T14:38:10.318707Z",
          "iopub.status.idle": "2023-12-06T14:38:10.325309Z",
          "shell.execute_reply": "2023-12-06T14:38:10.324453Z"
        },
        "papermill": {
          "duration": 0.023848,
          "end_time": "2023-12-06T14:38:10.327576",
          "exception": false,
          "start_time": "2023-12-06T14:38:10.303728",
          "status": "completed"
        },
        "tags": [],
        "id": "53158dd4"
      },
      "outputs": [],
      "source": [
        "data = data.drop(columns=['rating' , 'bedrooms' , 'date_range' ,'Unnamed: 0' ]) # drop the columns"
      ]
    },
    {
      "cell_type": "markdown",
      "id": "b0e330fa",
      "metadata": {
        "papermill": {
          "duration": 0.01354,
          "end_time": "2023-12-06T14:38:10.354878",
          "exception": false,
          "start_time": "2023-12-06T14:38:10.341338",
          "status": "completed"
        },
        "tags": [],
        "id": "b0e330fa"
      },
      "source": [
        "**Rename columns header**"
      ]
    },
    {
      "cell_type": "code",
      "execution_count": 12,
      "id": "b8d93e84",
      "metadata": {
        "execution": {
          "iopub.execute_input": "2023-12-06T14:38:10.385200Z",
          "iopub.status.busy": "2023-12-06T14:38:10.384040Z",
          "iopub.status.idle": "2023-12-06T14:38:10.390213Z",
          "shell.execute_reply": "2023-12-06T14:38:10.389366Z"
        },
        "papermill": {
          "duration": 0.023472,
          "end_time": "2023-12-06T14:38:10.392336",
          "exception": false,
          "start_time": "2023-12-06T14:38:10.368864",
          "status": "completed"
        },
        "tags": [],
        "id": "b8d93e84"
      },
      "outputs": [],
      "source": [
        "# Rename columns\n",
        "data.rename(columns={'header': 'location'}, inplace=True)"
      ]
    },
    {
      "cell_type": "markdown",
      "id": "c1171802",
      "metadata": {
        "papermill": {
          "duration": 0.013834,
          "end_time": "2023-12-06T14:38:10.420125",
          "exception": false,
          "start_time": "2023-12-06T14:38:10.406291",
          "status": "completed"
        },
        "tags": [],
        "id": "c1171802"
      },
      "source": [
        "**How many locatioon we have ?**"
      ]
    },
    {
      "cell_type": "code",
      "execution_count": 13,
      "id": "5188389b",
      "metadata": {
        "execution": {
          "iopub.execute_input": "2023-12-06T14:38:10.450505Z",
          "iopub.status.busy": "2023-12-06T14:38:10.450129Z",
          "iopub.status.idle": "2023-12-06T14:38:10.462671Z",
          "shell.execute_reply": "2023-12-06T14:38:10.461723Z"
        },
        "papermill": {
          "duration": 0.0303,
          "end_time": "2023-12-06T14:38:10.464902",
          "exception": false,
          "start_time": "2023-12-06T14:38:10.434602",
          "status": "completed"
        },
        "tags": [],
        "colab": {
          "base_uri": "https://localhost:8080/"
        },
        "id": "5188389b",
        "outputId": "198be0b3-531e-4dcd-b117-e4cc6380c29d"
      },
      "outputs": [
        {
          "output_type": "execute_result",
          "data": {
            "text/plain": [
              "Apartment in Riyadh                         1147\n",
              "Apartment in Jeddah                          778\n",
              "Condo in Riyadh                              276\n",
              "Condo in Jeddah                              231\n",
              "Home in Riyadh                               182\n",
              "Apartment in Makkah                           31\n",
              "Cabin in Jeddah                                7\n",
              "Apartment in King Abdullah Economic City       5\n",
              "Chalet in Riyadh                               5\n",
              "Apartment in Mecca                             4\n",
              "Apartment in الرياض                            3\n",
              "Villa in Riyadh                                2\n",
              "Villa in Dhahran                               2\n",
              "Chalet in Taif                                 1\n",
              "Chalet in Mecca                                1\n",
              "Townhouse in Riyadh                            1\n",
              "Cottage in Umluj                               1\n",
              "Tiny home in Makkah Province                   1\n",
              "Hut in Taif                                    1\n",
              "Room in Riyadh                                 1\n",
              "Loft in Jeddah                                 1\n",
              "Cabin in Taif                                  1\n",
              "Villa in Jeddah                                1\n",
              "Cabin in At Taif                               1\n",
              "Chalet in Duba                                 1\n",
              "Guesthouse in Tabuk Province                   1\n",
              "Guesthouse in Riyadh                           1\n",
              "Condo in Al Khobar                             1\n",
              "Villa in Abha                                  1\n",
              "Cabin in Riyadh                                1\n",
              "Barn in Al Ula                                 1\n",
              "Tiny home in Ragal Almaa                       1\n",
              "Vacation home in Riyadh                        1\n",
              "Loft in Riyadh City                            1\n",
              "Chalet in Abha                                 1\n",
              "Place to stay in Riyadh                        1\n",
              "Farm stay in Al Atheeb                         1\n",
              "Farm stay in Jalajil                           1\n",
              "Barn in Riyadh                                 1\n",
              "Barn in Jeddah                                 1\n",
              "Home in Jeddah                                 1\n",
              "Barn in Shlal                                  1\n",
              "Name: location, dtype: int64"
            ]
          },
          "metadata": {},
          "execution_count": 13
        }
      ],
      "source": [
        "data['location'].value_counts()"
      ]
    },
    {
      "cell_type": "markdown",
      "id": "3d0b4f5e",
      "metadata": {
        "papermill": {
          "duration": 0.013595,
          "end_time": "2023-12-06T14:38:10.492675",
          "exception": false,
          "start_time": "2023-12-06T14:38:10.479080",
          "status": "completed"
        },
        "tags": [],
        "id": "3d0b4f5e"
      },
      "source": [
        "This problem called **Consistency**: Renaming the city names ensures that similar locations are represented consistently."
      ]
    },
    {
      "cell_type": "markdown",
      "id": "3c43eeb7",
      "metadata": {
        "papermill": {
          "duration": 0.014535,
          "end_time": "2023-12-06T14:38:10.521292",
          "exception": false,
          "start_time": "2023-12-06T14:38:10.506757",
          "status": "completed"
        },
        "tags": [],
        "id": "3c43eeb7"
      },
      "source": [
        "**City names mapping**"
      ]
    },
    {
      "cell_type": "code",
      "execution_count": 14,
      "id": "a377319b",
      "metadata": {
        "execution": {
          "iopub.execute_input": "2023-12-06T14:38:10.552972Z",
          "iopub.status.busy": "2023-12-06T14:38:10.552587Z",
          "iopub.status.idle": "2023-12-06T14:38:10.562391Z",
          "shell.execute_reply": "2023-12-06T14:38:10.561193Z"
        },
        "papermill": {
          "duration": 0.028088,
          "end_time": "2023-12-06T14:38:10.564620",
          "exception": false,
          "start_time": "2023-12-06T14:38:10.536532",
          "status": "completed"
        },
        "tags": [],
        "id": "a377319b"
      },
      "outputs": [],
      "source": [
        "import pandas as pd\n",
        "import re\n",
        "# City names\n",
        "# City names mapping\n",
        "mapping = { 'Apartment in Riyadh': \"Riyadh\", 'Apartment in Jeddah': \"Jeddah\", 'Condo in Riyadh': \"Riyadh\",\n",
        "           'Apartment in Makkah': \"Makkah\", 'Condo in Jeddah': \"Jeddah\", 'Home in Riyadh': \"Riyadh\",\n",
        "           'Apartment in King Abdullah Economic City': \"King Abdullah\", 'Apartment in الرياض': \"Riyadh\",\n",
        "           'Hotel in Makkah': \"Makkah\", 'Apartment in  Muhammadiyah, Jeddah': \"Jeddah\",\n",
        "           'Apartment in Mecca': \"Makkah\", 'Chalet in Riyadh': \"Riyadh\", 'Condo in Makkah': \"Makkah\",\n",
        "           'Room in Riyadh': \"Riyadh\", 'Home in Jeddah': \"Jeddah\", 'Villa in Riyadh': \"Riyadh\",\n",
        "           'Hut in Jeddah': \"Jeddah\", 'Cabin in Jeddah': \"Jeddah\", 'Hut in Taif': \"others\",\n",
        "           'Apartment in Diriyah': \"others\", 'Guest suite in Riyadh': \"Riyadh\", 'Loft in Jeddah': \"Jeddah\",\n",
        "           'Condo in Al Khobar': \"others\", 'Chalet in Duba': \"others\", 'Chalet in Mecca': \"Makkah\",\n",
        "           'Vacation home in Riyadh': \"Riyadh\", 'Tiny home in Ragal Almaa': \"others\", 'Loft in Riyadh City': \"Riyadh\",\n",
        "           'Place to stay in Riyadh': \"Riyadh\", 'Farm stay in Jalajil': \"others\", 'Barn in Riyadh': \"Riyadh\",\n",
        "           'Ranch in AlUla': \"others\" , 'Cabin in At Taif': \"others\", 'Villa in Jeddah': \"Jeddah\",\n",
        "           'Guesthouse in Makkah': \"Makkah\"}\n",
        "\n",
        "# Apply mapping to the 'city' column\n",
        "data['location'] = data['location'].map(mapping)"
      ]
    },
    {
      "cell_type": "markdown",
      "id": "44b88fea",
      "metadata": {
        "papermill": {
          "duration": 0.014029,
          "end_time": "2023-12-06T14:38:10.593308",
          "exception": false,
          "start_time": "2023-12-06T14:38:10.579279",
          "status": "completed"
        },
        "tags": [],
        "id": "44b88fea"
      },
      "source": [
        "**Count the occurrences of each city**"
      ]
    },
    {
      "cell_type": "code",
      "execution_count": 15,
      "id": "ef2e4c68",
      "metadata": {
        "execution": {
          "iopub.execute_input": "2023-12-06T14:38:10.624729Z",
          "iopub.status.busy": "2023-12-06T14:38:10.623977Z",
          "iopub.status.idle": "2023-12-06T14:38:10.930181Z",
          "shell.execute_reply": "2023-12-06T14:38:10.929054Z"
        },
        "papermill": {
          "duration": 0.324521,
          "end_time": "2023-12-06T14:38:10.932690",
          "exception": false,
          "start_time": "2023-12-06T14:38:10.608169",
          "status": "completed"
        },
        "tags": [],
        "colab": {
          "base_uri": "https://localhost:8080/",
          "height": 420
        },
        "id": "ef2e4c68",
        "outputId": "f0a6b31b-95cc-4e25-cb5e-49bf3f81ee6e"
      },
      "outputs": [
        {
          "output_type": "display_data",
          "data": {
            "text/plain": [
              "<Figure size 600x300 with 1 Axes>"
            ],
            "image/png": "[encoded data removed]"
          },
          "metadata": {}
        }
      ],
      "source": [
        "# Count the occurrences of each city\n",
        "city_counts = data['location'].value_counts()\n",
        "\n",
        "# Plotting\n",
        "plt.figure(figsize=(6, 3))\n",
        "city_counts.plot(kind='bar', color='skyblue')\n",
        "plt.title('City Counts')\n",
        "plt.xlabel('City')\n",
        "plt.ylabel('Count')\n",
        "\n",
        "# Display the plot\n",
        "plt.show()"
      ]
    },
    {
      "cell_type": "code",
      "execution_count": 16,
      "id": "6004d17e",
      "metadata": {
        "execution": {
          "iopub.execute_input": "2023-12-06T14:38:10.964362Z",
          "iopub.status.busy": "2023-12-06T14:38:10.963212Z",
          "iopub.status.idle": "2023-12-06T14:38:10.970900Z",
          "shell.execute_reply": "2023-12-06T14:38:10.969743Z"
        },
        "papermill": {
          "duration": 0.026522,
          "end_time": "2023-12-06T14:38:10.973654",
          "exception": false,
          "start_time": "2023-12-06T14:38:10.947132",
          "status": "completed"
        },
        "tags": [],
        "colab": {
          "base_uri": "https://localhost:8080/"
        },
        "id": "6004d17e",
        "outputId": "df2c8c0d-e6e3-481b-abd8-d92a320e4ad7"
      },
      "outputs": [
        {
          "output_type": "execute_result",
          "data": {
            "text/plain": [
              "Index(['name', 'location', 'beds', 'price', 'num_beds', 'num_bedrooms',\n",
              "       'ratingg', 'num_comments'],\n",
              "      dtype='object')"
            ]
          },
          "metadata": {},
          "execution_count": 16
        }
      ],
      "source": [
        "data.columns"
      ]
    },
    {
      "cell_type": "code",
      "execution_count": 17,
      "id": "099b6805",
      "metadata": {
        "execution": {
          "iopub.execute_input": "2023-12-06T14:38:11.005591Z",
          "iopub.status.busy": "2023-12-06T14:38:11.005205Z",
          "iopub.status.idle": "2023-12-06T14:38:11.011308Z",
          "shell.execute_reply": "2023-12-06T14:38:11.010194Z"
        },
        "papermill": {
          "duration": 0.025181,
          "end_time": "2023-12-06T14:38:11.013609",
          "exception": false,
          "start_time": "2023-12-06T14:38:10.988428",
          "status": "completed"
        },
        "tags": [],
        "id": "099b6805"
      },
      "outputs": [],
      "source": [
        "data2 = data.drop(columns=[  'beds'  , 'name'])"
      ]
    },
    {
      "cell_type": "markdown",
      "id": "38bac013",
      "metadata": {
        "papermill": {
          "duration": 0.014918,
          "end_time": "2023-12-06T14:38:11.044167",
          "exception": false,
          "start_time": "2023-12-06T14:38:11.029249",
          "status": "completed"
        },
        "tags": [],
        "id": "38bac013"
      },
      "source": [
        "**show the types of the columns**"
      ]
    },
    {
      "cell_type": "code",
      "execution_count": 18,
      "id": "ce9896d2",
      "metadata": {
        "execution": {
          "iopub.execute_input": "2023-12-06T14:38:11.076259Z",
          "iopub.status.busy": "2023-12-06T14:38:11.075467Z",
          "iopub.status.idle": "2023-12-06T14:38:11.083929Z",
          "shell.execute_reply": "2023-12-06T14:38:11.082918Z"
        },
        "papermill": {
          "duration": 0.027187,
          "end_time": "2023-12-06T14:38:11.086001",
          "exception": false,
          "start_time": "2023-12-06T14:38:11.058814",
          "status": "completed"
        },
        "tags": [],
        "colab": {
          "base_uri": "https://localhost:8080/"
        },
        "id": "ce9896d2",
        "outputId": "a0ffbd53-95b6-4552-dcae-142e04cd99fd"
      },
      "outputs": [
        {
          "output_type": "execute_result",
          "data": {
            "text/plain": [
              "location         object\n",
              "price           float64\n",
              "num_beds         object\n",
              "num_bedrooms     object\n",
              "ratingg         float64\n",
              "num_comments    float64\n",
              "dtype: object"
            ]
          },
          "metadata": {},
          "execution_count": 18
        }
      ],
      "source": [
        "data2.dtypes"
      ]
    },
    {
      "cell_type": "code",
      "execution_count": 19,
      "id": "4db06b34",
      "metadata": {
        "execution": {
          "iopub.execute_input": "2023-12-06T14:38:11.118173Z",
          "iopub.status.busy": "2023-12-06T14:38:11.117752Z",
          "iopub.status.idle": "2023-12-06T14:38:11.126453Z",
          "shell.execute_reply": "2023-12-06T14:38:11.125554Z"
        },
        "papermill": {
          "duration": 0.028122,
          "end_time": "2023-12-06T14:38:11.129003",
          "exception": false,
          "start_time": "2023-12-06T14:38:11.100881",
          "status": "completed"
        },
        "tags": [],
        "id": "4db06b34"
      },
      "outputs": [],
      "source": [
        "data2.dropna(inplace=True)"
      ]
    },
    {
      "cell_type": "markdown",
      "id": "26b08f74",
      "metadata": {
        "papermill": {
          "duration": 0.015778,
          "end_time": "2023-12-06T14:38:11.161327",
          "exception": false,
          "start_time": "2023-12-06T14:38:11.145549",
          "status": "completed"
        },
        "tags": [],
        "id": "26b08f74"
      },
      "source": [
        "* Once you have **converted** the **data types**, you can then enter the data into the model.\n",
        "* The **model** will then be able to learn the **relationships** between the data and make more **accurate predictions**."
      ]
    },
    {
      "cell_type": "code",
      "execution_count": 20,
      "id": "9405493a",
      "metadata": {
        "execution": {
          "iopub.execute_input": "2023-12-06T14:38:11.194193Z",
          "iopub.status.busy": "2023-12-06T14:38:11.193811Z",
          "iopub.status.idle": "2023-12-06T14:38:11.202681Z",
          "shell.execute_reply": "2023-12-06T14:38:11.201602Z"
        },
        "papermill": {
          "duration": 0.027424,
          "end_time": "2023-12-06T14:38:11.205032",
          "exception": false,
          "start_time": "2023-12-06T14:38:11.177608",
          "status": "completed"
        },
        "tags": [],
        "id": "9405493a"
      },
      "outputs": [],
      "source": [
        "# Convert columns to recommended data types\n",
        "data2['location'] = data2['location'].astype(str)\n",
        "data2['price'] = data2['price'].astype(float)\n",
        "data2['num_beds'] = data2['num_beds'].astype(int)\n",
        "data2['num_bedrooms'] = data2['num_bedrooms'].astype(int)\n",
        "data2['ratingg'] = data2['ratingg'].astype(float)\n",
        "data2['num_comments'] = data2['num_comments'].astype(int)"
      ]
    },
    {
      "cell_type": "markdown",
      "id": "ae162094",
      "metadata": {
        "papermill": {
          "duration": 0.015166,
          "end_time": "2023-12-06T14:38:11.237169",
          "exception": false,
          "start_time": "2023-12-06T14:38:11.222003",
          "status": "completed"
        },
        "tags": [],
        "id": "ae162094"
      },
      "source": [
        "* Describe method to display summary statistics (count, mean, std, min, 25%, 50%, 75%, and max) for numeric columns.\n",
        "* It also shows the mean and median for specific columns."
      ]
    },
    {
      "cell_type": "code",
      "execution_count": 21,
      "id": "2c69a757",
      "metadata": {
        "execution": {
          "iopub.execute_input": "2023-12-06T14:38:11.269580Z",
          "iopub.status.busy": "2023-12-06T14:38:11.269163Z",
          "iopub.status.idle": "2023-12-06T14:38:11.298801Z",
          "shell.execute_reply": "2023-12-06T14:38:11.297657Z"
        },
        "papermill": {
          "duration": 0.048475,
          "end_time": "2023-12-06T14:38:11.301190",
          "exception": false,
          "start_time": "2023-12-06T14:38:11.252715",
          "status": "completed"
        },
        "tags": [],
        "colab": {
          "base_uri": "https://localhost:8080/",
          "height": 301
        },
        "id": "2c69a757",
        "outputId": "eadc9c00-cc4f-4040-d584-7cdeddbe4b57"
      },
      "outputs": [
        {
          "output_type": "execute_result",
          "data": {
            "text/plain": [
              "             price     num_beds  num_bedrooms      ratingg  num_comments\n",
              "count  2139.000000  2139.000000   2139.000000  2139.000000   2139.000000\n",
              "mean    156.085554     3.043478      2.135577     4.909719     21.863955\n",
              "std      97.589496     1.381922      0.889783     0.128036     17.694838\n",
              "min      48.000000     1.000000      1.000000     3.250000      3.000000\n",
              "25%     104.000000     2.000000      2.000000     4.850000     10.000000\n",
              "50%     133.000000     3.000000      2.000000     5.000000     16.000000\n",
              "75%     158.000000     4.000000      2.000000     5.000000     33.000000\n",
              "max     447.000000     8.000000      5.000000     5.000000    178.000000"
            ],
            "text/html": [
              "\n",
              "  <div id=\"df-0236302c-ec65-4ccb-925f-419834bdabab\" class=\"colab-df-container\">\n",
              "    <div>\n",
              "<style scoped>\n",
              "    .dataframe tbody tr th:only-of-type {\n",
              "        vertical-align: middle;\n",
              "    }\n",
              "\n",
              "    .dataframe tbody tr th {\n",
              "        vertical-align: top;\n",
              "    }\n",
              "\n",
              "    .dataframe thead th {\n",
              "        text-align: right;\n",
              "    }\n",
              "</style>\n",
              "<table border=\"1\" class=\"dataframe\">\n",
              "  <thead>\n",
              "    <tr style=\"text-align: right;\">\n",
              "      <th></th>\n",
              "      <th>price</th>\n",
              "      <th>num_beds</th>\n",
              "      <th>num_bedrooms</th>\n",
              "      <th>ratingg</th>\n",
              "      <th>num_comments</th>\n",
              "    </tr>\n",
              "  </thead>\n",
              "  <tbody>\n",
              "    <tr>\n",
              "      <th>count</th>\n",
              "      <td>2139.000000</td>\n",
              "      <td>2139.000000</td>\n",
              "      <td>2139.000000</td>\n",
              "      <td>2139.000000</td>\n",
              "      <td>2139.000000</td>\n",
              "    </tr>\n",
              "    <tr>\n",
              "      <th>mean</th>\n",
              "      <td>156.085554</td>\n",
              "      <td>3.043478</td>\n",
              "      <td>2.135577</td>\n",
              "      <td>4.909719</td>\n",
              "      <td>21.863955</td>\n",
              "    </tr>\n",
              "    <tr>\n",
              "      <th>std</th>\n",
              "      <td>97.589496</td>\n",
              "      <td>1.381922</td>\n",
              "      <td>0.889783</td>\n",
              "      <td>0.128036</td>\n",
              "      <td>17.694838</td>\n",
              "    </tr>\n",
              "    <tr>\n",
              "      <th>min</th>\n",
              "      <td>48.000000</td>\n",
              "      <td>1.000000</td>\n",
              "      <td>1.000000</td>\n",
              "      <td>3.250000</td>\n",
              "      <td>3.000000</td>\n",
              "    </tr>\n",
              "    <tr>\n",
              "      <th>25%</th>\n",
              "      <td>104.000000</td>\n",
              "      <td>2.000000</td>\n",
              "      <td>2.000000</td>\n",
              "      <td>4.850000</td>\n",
              "      <td>10.000000</td>\n",
              "    </tr>\n",
              "    <tr>\n",
              "      <th>50%</th>\n",
              "      <td>133.000000</td>\n",
              "      <td>3.000000</td>\n",
              "      <td>2.000000</td>\n",
              "      <td>5.000000</td>\n",
              "      <td>16.000000</td>\n",
              "    </tr>\n",
              "    <tr>\n",
              "      <th>75%</th>\n",
              "      <td>158.000000</td>\n",
              "      <td>4.000000</td>\n",
              "      <td>2.000000</td>\n",
              "      <td>5.000000</td>\n",
              "      <td>33.000000</td>\n",
              "    </tr>\n",
              "    <tr>\n",
              "      <th>max</th>\n",
              "      <td>447.000000</td>\n",
              "      <td>8.000000</td>\n",
              "      <td>5.000000</td>\n",
              "      <td>5.000000</td>\n",
              "      <td>178.000000</td>\n",
              "    </tr>\n",
              "  </tbody>\n",
              "</table>\n",
              "</div>\n",
              "    <div class=\"colab-df-buttons\">\n",
              "\n",
              "  <div class=\"colab-df-container\">\n",
              "    <button class=\"colab-df-convert\" onclick=\"convertToInteractive('df-0236302c-ec65-4ccb-925f-419834bdabab')\"\n",
              "            title=\"Convert this dataframe to an interactive table.\"\n",
              "            style=\"display:none;\">\n",
              "\n",
              "  <svg xmlns=\"http://www.w3.org/2000/svg\" height=\"24px\" viewBox=\"0 -960 960 960\">\n",
              "    <path d=\"M120-120v-720h720v720H120Zm60-500h600v-160H180v160Zm220 220h160v-160H400v160Zm0 220h160v-160H400v160ZM180-400h160v-160H180v160Zm440 0h160v-160H620v160ZM180-180h160v-160H180v160Zm440 0h160v-160H620v160Z\"/>\n",
              "  </svg>\n",
              "    </button>\n",
              "\n",
              "  <style>\n",
              "    .colab-df-container {\n",
              "      display:flex;\n",
              "      gap: 12px;\n",
              "    }\n",
              "\n",
              "    .colab-df-convert {\n",
              "      background-color: #E8F0FE;\n",
              "      border: none;\n",
              "      border-radius: 50%;\n",
              "      cursor: pointer;\n",
              "      display: none;\n",
              "      fill: #1967D2;\n",
              "      height: 32px;\n",
              "      padding: 0 0 0 0;\n",
              "      width: 32px;\n",
              "    }\n",
              "\n",
              "    .colab-df-convert:hover {\n",
              "      background-color: #E2EBFA;\n",
              "      box-shadow: 0px 1px 2px rgba(60, 64, 67, 0.3), 0px 1px 3px 1px rgba(60, 64, 67, 0.15);\n",
              "      fill: #174EA6;\n",
              "    }\n",
              "\n",
              "    .colab-df-buttons div {\n",
              "      margin-bottom: 4px;\n",
              "    }\n",
              "\n",
              "    [theme=dark] .colab-df-convert {\n",
              "      background-color: #3B4455;\n",
              "      fill: #D2E3FC;\n",
              "    }\n",
              "\n",
              "    [theme=dark] .colab-df-convert:hover {\n",
              "      background-color: #434B5C;\n",
              "      box-shadow: 0px 1px 3px 1px rgba(0, 0, 0, 0.15);\n",
              "      filter: drop-shadow(0px 1px 2px rgba(0, 0, 0, 0.3));\n",
              "      fill: #FFFFFF;\n",
              "    }\n",
              "  </style>\n",
              "\n",
              "    <script>\n",
              "      const buttonEl =\n",
              "        document.querySelector('#df-0236302c-ec65-4ccb-925f-419834bdabab button.colab-df-convert');\n",
              "      buttonEl.style.display =\n",
              "        google.colab.kernel.accessAllowed ? 'block' : 'none';\n",
              "\n",
              "      async function convertToInteractive(key) {\n",
              "        const element = document.querySelector('#df-0236302c-ec65-4ccb-925f-419834bdabab');\n",
              "        const dataTable =\n",
              "          await google.colab.kernel.invokeFunction('convertToInteractive',\n",
              "                                                    [key], {});\n",
              "        if (!dataTable) return;\n",
              "\n",
              "        const docLinkHtml = 'Like what you see? Visit the ' +\n",
              "          '<a target=\"_blank\" href=https://colab.research.google.com/notebooks/data_table.ipynb>data table notebook</a>'\n",
              "          + ' to learn more about interactive tables.';\n",
              "        element.innerHTML = '';\n",
              "        dataTable['output_type'] = 'display_data';\n",
              "        await google.colab.output.renderOutput(dataTable, element);\n",
              "        const docLink = document.createElement('div');\n",
              "        docLink.innerHTML = docLinkHtml;\n",
              "        element.appendChild(docLink);\n",
              "      }\n",
              "    </script>\n",
              "  </div>\n",
              "\n",
              "\n",
              "<div id=\"df-8aa6c136-7a0b-46f3-805f-024448530708\">\n",
              "  <button class=\"colab-df-quickchart\" onclick=\"quickchart('df-8aa6c136-7a0b-46f3-805f-024448530708')\"\n",
              "            title=\"Suggest charts\"\n",
              "            style=\"display:none;\">\n",
              "\n",
              "<svg xmlns=\"http://www.w3.org/2000/svg\" height=\"24px\"viewBox=\"0 0 24 24\"\n",
              "     width=\"24px\">\n",
              "    <g>\n",
              "        <path d=\"M19 3H5c-1.1 0-2 .9-2 2v14c0 1.1.9 2 2 2h14c1.1 0 2-.9 2-2V5c0-1.1-.9-2-2-2zM9 17H7v-7h2v7zm4 0h-2V7h2v10zm4 0h-2v-4h2v4z\"/>\n",
              "    </g>\n",
              "</svg>\n",
              "  </button>\n",
              "\n",
              "<style>\n",
              "  .colab-df-quickchart {\n",
              "      --bg-color: #E8F0FE;\n",
              "      --fill-color: #1967D2;\n",
              "      --hover-bg-color: #E2EBFA;\n",
              "      --hover-fill-color: #174EA6;\n",
              "      --disabled-fill-color: #AAA;\n",
              "      --disabled-bg-color: #DDD;\n",
              "  }\n",
              "\n",
              "  [theme=dark] .colab-df-quickchart {\n",
              "      --bg-color: #3B4455;\n",
              "      --fill-color: #D2E3FC;\n",
              "      --hover-bg-color: #434B5C;\n",
              "      --hover-fill-color: #FFFFFF;\n",
              "      --disabled-bg-color: #3B4455;\n",
              "      --disabled-fill-color: #666;\n",
              "  }\n",
              "\n",
              "  .colab-df-quickchart {\n",
              "    background-color: var(--bg-color);\n",
              "    border: none;\n",
              "    border-radius: 50%;\n",
              "    cursor: pointer;\n",
              "    display: none;\n",
              "    fill: var(--fill-color);\n",
              "    height: 32px;\n",
              "    padding: 0;\n",
              "    width: 32px;\n",
              "  }\n",
              "\n",
              "  .colab-df-quickchart:hover {\n",
              "    background-color: var(--hover-bg-color);\n",
              "    box-shadow: 0 1px 2px rgba(60, 64, 67, 0.3), 0 1px 3px 1px rgba(60, 64, 67, 0.15);\n",
              "    fill: var(--button-hover-fill-color);\n",
              "  }\n",
              "\n",
              "  .colab-df-quickchart-complete:disabled,\n",
              "  .colab-df-quickchart-complete:disabled:hover {\n",
              "    background-color: var(--disabled-bg-color);\n",
              "    fill: var(--disabled-fill-color);\n",
              "    box-shadow: none;\n",
              "  }\n",
              "\n",
              "  .colab-df-spinner {\n",
              "    border: 2px solid var(--fill-color);\n",
              "    border-color: transparent;\n",
              "    border-bottom-color: var(--fill-color);\n",
              "    animation:\n",
              "      spin 1s steps(1) infinite;\n",
              "  }\n",
              "\n",
              "  @keyframes spin {\n",
              "    0% {\n",
              "      border-color: transparent;\n",
              "      border-bottom-color: var(--fill-color);\n",
              "      border-left-color: var(--fill-color);\n",
              "    }\n",
              "    20% {\n",
              "      border-color: transparent;\n",
              "      border-left-color: var(--fill-color);\n",
              "      border-top-color: var(--fill-color);\n",
              "    }\n",
              "    30% {\n",
              "      border-color: transparent;\n",
              "      border-left-color: var(--fill-color);\n",
              "      border-top-color: var(--fill-color);\n",
              "      border-right-color: var(--fill-color);\n",
              "    }\n",
              "    40% {\n",
              "      border-color: transparent;\n",
              "      border-right-color: var(--fill-color);\n",
              "      border-top-color: var(--fill-color);\n",
              "    }\n",
              "    60% {\n",
              "      border-color: transparent;\n",
              "      border-right-color: var(--fill-color);\n",
              "    }\n",
              "    80% {\n",
              "      border-color: transparent;\n",
              "      border-right-color: var(--fill-color);\n",
              "      border-bottom-color: var(--fill-color);\n",
              "    }\n",
              "    90% {\n",
              "      border-color: transparent;\n",
              "      border-bottom-color: var(--fill-color);\n",
              "    }\n",
              "  }\n",
              "</style>\n",
              "\n",
              "  <script>\n",
              "    async function quickchart(key) {\n",
              "      const quickchartButtonEl =\n",
              "        document.querySelector('#' + key + ' button');\n",
              "      quickchartButtonEl.disabled = true;  // To prevent multiple clicks.\n",
              "      quickchartButtonEl.classList.add('colab-df-spinner');\n",
              "      try {\n",
              "        const charts = await google.colab.kernel.invokeFunction(\n",
              "            'suggestCharts', [key], {});\n",
              "      } catch (error) {\n",
              "        console.error('Error during call to suggestCharts:', error);\n",
              "      }\n",
              "      quickchartButtonEl.classList.remove('colab-df-spinner');\n",
              "      quickchartButtonEl.classList.add('colab-df-quickchart-complete');\n",
              "    }\n",
              "    (() => {\n",
              "      let quickchartButtonEl =\n",
              "        document.querySelector('#df-8aa6c136-7a0b-46f3-805f-024448530708 button');\n",
              "      quickchartButtonEl.style.display =\n",
              "        google.colab.kernel.accessAllowed ? 'block' : 'none';\n",
              "    })();\n",
              "  </script>\n",
              "</div>\n",
              "    </div>\n",
              "  </div>\n"
            ]
          },
          "metadata": {},
          "execution_count": 21
        }
      ],
      "source": [
        "data2.describe()"
      ]
    },
    {
      "cell_type": "markdown",
      "id": "8c264d3d",
      "metadata": {
        "papermill": {
          "duration": 0.014596,
          "end_time": "2023-12-06T14:38:11.331307",
          "exception": false,
          "start_time": "2023-12-06T14:38:11.316711",
          "status": "completed"
        },
        "tags": [],
        "id": "8c264d3d"
      },
      "source": [
        "# analysis and recommendations\n",
        "* **Price**:\n",
        "    * **Analysis**: The mean price is $156.54  with a standard deviation of  $97.80. The minimum price is $48, and the maximum is $448.\n",
        "    * **Recommendation**:\n",
        "            - Check for outliers in the price column.\n",
        "            - You can use box plots or other visualizations to identify extreme values.\n",
        "            - you might choose to remove or adjust outliers.\n",
        "        \n",
        "\n",
        "                \n",
        "\n",
        "* **num_comments**:\n",
        "    * **Analysis**: The mean number of comments is approximately 21.81 with a standard deviation of 17.69. The minimum number of comments is 3, and the maximum is 178.\n",
        "    * **Recommendation**:\n",
        "                - Check for outliers in the number of comments.\n",
        "                - If there are properties with an exceptionally high number of comments, investigate whether these are legitimate data points or if there are any data entry errors"
      ]
    },
    {
      "cell_type": "markdown",
      "id": "0302bd5d",
      "metadata": {
        "papermill": {
          "duration": 0.014765,
          "end_time": "2023-12-06T14:38:11.360975",
          "exception": false,
          "start_time": "2023-12-06T14:38:11.346210",
          "status": "completed"
        },
        "tags": [],
        "id": "0302bd5d"
      },
      "source": [
        "* **function to make plot and remove outliers**"
      ]
    },
    {
      "cell_type": "code",
      "execution_count": 22,
      "id": "0f56603a",
      "metadata": {
        "execution": {
          "iopub.execute_input": "2023-12-06T14:38:11.392420Z",
          "iopub.status.busy": "2023-12-06T14:38:11.391985Z",
          "iopub.status.idle": "2023-12-06T14:38:12.965881Z",
          "shell.execute_reply": "2023-12-06T14:38:12.964438Z"
        },
        "papermill": {
          "duration": 1.592732,
          "end_time": "2023-12-06T14:38:12.968712",
          "exception": false,
          "start_time": "2023-12-06T14:38:11.375980",
          "status": "completed"
        },
        "tags": [],
        "id": "0f56603a"
      },
      "outputs": [],
      "source": [
        "import matplotlib.pyplot as plt\n",
        "import seaborn as sns\n",
        "\n",
        "# Function to remove outliers\n",
        "def remove_outliers(df, column):\n",
        "    Q1 = df[column].quantile(0.25)\n",
        "    Q3 = df[column].quantile(0.75)\n",
        "    IQR = Q3 - Q1\n",
        "\n",
        "    # Define the boundaries for outliers\n",
        "    lower_bound = Q1 - 1.5 * IQR\n",
        "    upper_bound = Q3 + 1.5 * IQR\n",
        "\n",
        "    # Remove outliers\n",
        "    df_no_outliers = df[(df[column] >= lower_bound) & (df[column] <= upper_bound)]\n",
        "\n",
        "    return df_no_outliers\n",
        "\n",
        "# Function to create box plot\n",
        "def plot_box_plots(df, column):\n",
        "    df_no_outliers = remove_outliers(df, column)  # Define df_no_outliers here\n",
        "\n",
        "    plt.figure(figsize=(14, 6))\n",
        "\n",
        "    # Before removing outliers\n",
        "    plt.subplot(1, 2, 1)\n",
        "    sns.boxplot(x=df[column])\n",
        "    plt.title(f'Box Plot of {column} (Before Removing Outliers)')\n",
        "\n",
        "    # After removing outliers\n",
        "    plt.subplot(1, 2, 2)\n",
        "    sns.boxplot(x=df_no_outliers[column])\n",
        "    plt.title(f'Box Plot of {column} (After Removing Outliers)')\n",
        "\n",
        "    plt.show()\n"
      ]
    },
    {
      "cell_type": "markdown",
      "id": "749aa83b",
      "metadata": {
        "papermill": {
          "duration": 0.014762,
          "end_time": "2023-12-06T14:38:12.999105",
          "exception": false,
          "start_time": "2023-12-06T14:38:12.984343",
          "status": "completed"
        },
        "tags": [],
        "id": "749aa83b"
      },
      "source": [
        "* **Remove outliers in the num_comments**"
      ]
    },
    {
      "cell_type": "code",
      "execution_count": 23,
      "id": "c13db4b7",
      "metadata": {
        "execution": {
          "iopub.execute_input": "2023-12-06T14:38:13.031958Z",
          "iopub.status.busy": "2023-12-06T14:38:13.031560Z",
          "iopub.status.idle": "2023-12-06T14:38:13.430989Z",
          "shell.execute_reply": "2023-12-06T14:38:13.429655Z"
        },
        "papermill": {
          "duration": 0.419078,
          "end_time": "2023-12-06T14:38:13.433682",
          "exception": false,
          "start_time": "2023-12-06T14:38:13.014604",
          "status": "completed"
        },
        "tags": [],
        "colab": {
          "base_uri": "https://localhost:8080/",
          "height": 569
        },
        "id": "c13db4b7",
        "outputId": "c6679870-0e26-4560-b701-180f2578ac8a"
      },
      "outputs": [
        {
          "output_type": "display_data",
          "data": {
            "text/plain": [
              "<Figure size 1400x600 with 2 Axes>"
            ],
            "image/png": "[encoded data removed]"
          },
          "metadata": {}
        }
      ],
      "source": [
        "# Create and display the box plots before and after removing outliers\n",
        "plot_box_plots(data2, 'num_comments')\n",
        "# Remove outliers\n",
        "data3 = remove_outliers(data2, 'num_comments')\n"
      ]
    },
    {
      "cell_type": "markdown",
      "id": "252e659f",
      "metadata": {
        "papermill": {
          "duration": 0.01532,
          "end_time": "2023-12-06T14:38:13.466148",
          "exception": false,
          "start_time": "2023-12-06T14:38:13.450828",
          "status": "completed"
        },
        "tags": [],
        "id": "252e659f"
      },
      "source": [
        "* **remove outliers from price**"
      ]
    },
    {
      "cell_type": "code",
      "execution_count": 24,
      "id": "4cb06735",
      "metadata": {
        "execution": {
          "iopub.execute_input": "2023-12-06T14:38:13.501408Z",
          "iopub.status.busy": "2023-12-06T14:38:13.500344Z",
          "iopub.status.idle": "2023-12-06T14:38:13.873512Z",
          "shell.execute_reply": "2023-12-06T14:38:13.872272Z"
        },
        "papermill": {
          "duration": 0.393587,
          "end_time": "2023-12-06T14:38:13.876025",
          "exception": false,
          "start_time": "2023-12-06T14:38:13.482438",
          "status": "completed"
        },
        "tags": [],
        "colab": {
          "base_uri": "https://localhost:8080/",
          "height": 569
        },
        "id": "4cb06735",
        "outputId": "078edfc3-8c86-4fdb-971e-3a7d3c2f4555"
      },
      "outputs": [
        {
          "output_type": "display_data",
          "data": {
            "text/plain": [
              "<Figure size 1400x600 with 2 Axes>"
            ],
            "image/png": "[encoded data removed]"
          },
          "metadata": {}
        }
      ],
      "source": [
        "# Create and display the box plots before and after removing outliers\n",
        "plot_box_plots(data3, 'price')\n",
        "# Remove outliers\n",
        "data4 = remove_outliers(data3, 'price')\n"
      ]
    },
    {
      "cell_type": "markdown",
      "id": "52a9a0e6",
      "metadata": {
        "papermill": {
          "duration": 0.016361,
          "end_time": "2023-12-06T14:38:13.908732",
          "exception": false,
          "start_time": "2023-12-06T14:38:13.892371",
          "status": "completed"
        },
        "tags": [],
        "id": "52a9a0e6"
      },
      "source": [
        "* **Most famous city in Sudia Arabia**"
      ]
    },
    {
      "cell_type": "markdown",
      "id": "526b7832",
      "metadata": {
        "papermill": {
          "duration": 0.015943,
          "end_time": "2023-12-06T14:38:13.940982",
          "exception": false,
          "start_time": "2023-12-06T14:38:13.925039",
          "status": "completed"
        },
        "tags": [],
        "id": "526b7832"
      },
      "source": [
        "**we looking teh plot we sea the Riyadh has the heghest price**"
      ]
    },
    {
      "cell_type": "code",
      "execution_count": 25,
      "id": "56055f90",
      "metadata": {
        "execution": {
          "iopub.execute_input": "2023-12-06T14:38:13.975775Z",
          "iopub.status.busy": "2023-12-06T14:38:13.975355Z",
          "iopub.status.idle": "2023-12-06T14:38:14.302713Z",
          "shell.execute_reply": "2023-12-06T14:38:14.301426Z"
        },
        "papermill": {
          "duration": 0.348031,
          "end_time": "2023-12-06T14:38:14.305441",
          "exception": false,
          "start_time": "2023-12-06T14:38:13.957410",
          "status": "completed"
        },
        "tags": [],
        "colab": {
          "base_uri": "https://localhost:8080/",
          "height": 569
        },
        "id": "56055f90",
        "outputId": "28440789-cede-48de-faba-b229fb6834f9"
      },
      "outputs": [
        {
          "output_type": "display_data",
          "data": {
            "text/plain": [
              "<Figure size 1000x600 with 1 Axes>"
            ],
            "image/png": "[encoded data removed]"
          },
          "metadata": {}
        }
      ],
      "source": [
        "plt.figure(figsize=(10, 6))\n",
        "sns.scatterplot(x='location', y='price', data=data4)\n",
        "plt.title('Relationship between Location and Price')\n",
        "plt.show()"
      ]
    },
    {
      "cell_type": "markdown",
      "id": "49773ab6",
      "metadata": {
        "papermill": {
          "duration": 0.016937,
          "end_time": "2023-12-06T14:38:14.339650",
          "exception": false,
          "start_time": "2023-12-06T14:38:14.322713",
          "status": "completed"
        },
        "tags": [],
        "id": "49773ab6"
      },
      "source": [
        "### [Distribution of House priceing]()"
      ]
    },
    {
      "cell_type": "code",
      "execution_count": 26,
      "id": "14c99cd0",
      "metadata": {
        "execution": {
          "iopub.execute_input": "2023-12-06T14:38:14.375569Z",
          "iopub.status.busy": "2023-12-06T14:38:14.375144Z",
          "iopub.status.idle": "2023-12-06T14:38:14.740619Z",
          "shell.execute_reply": "2023-12-06T14:38:14.739395Z"
        },
        "papermill": {
          "duration": 0.386506,
          "end_time": "2023-12-06T14:38:14.743450",
          "exception": false,
          "start_time": "2023-12-06T14:38:14.356944",
          "status": "completed"
        },
        "tags": [],
        "colab": {
          "base_uri": "https://localhost:8080/",
          "height": 751
        },
        "id": "14c99cd0",
        "outputId": "bcaa7628-663f-481a-d02f-ff19115026d8"
      },
      "outputs": [
        {
          "output_type": "stream",
          "name": "stderr",
          "text": [
            "<ipython-input-26-84261c32d1b4>:2: UserWarning: \n",
            "\n",
            "`distplot` is a deprecated function and will be removed in seaborn v0.14.0.\n",
            "\n",
            "Please adapt your code to use either `displot` (a figure-level function with\n",
            "similar flexibility) or `histplot` (an axes-level function for histograms).\n",
            "\n",
            "For a guide to updating your code to use the new functions, please see\n",
            "https://gist.github.com/mwaskom/de44147ed2974457ad6372750bbe5751\n",
            "\n",
            "  sns.distplot(data4['price'])\n"
          ]
        },
        {
          "output_type": "display_data",
          "data": {
            "text/plain": [
              "<Figure size 600x600 with 1 Axes>"
            ],
            "image/png": "[encoded data removed]"
          },
          "metadata": {}
        }
      ],
      "source": [
        "plt.figure(figsize=(6,6))\n",
        "sns.distplot(data4['price'])\n",
        "plt.show()"
      ]
    },
    {
      "cell_type": "markdown",
      "id": "f6a4708c",
      "metadata": {
        "papermill": {
          "duration": 0.01702,
          "end_time": "2023-12-06T14:38:14.777930",
          "exception": false,
          "start_time": "2023-12-06T14:38:14.760910",
          "status": "completed"
        },
        "tags": [],
        "id": "f6a4708c"
      },
      "source": [
        "* **make encoded for categorical columns**"
      ]
    },
    {
      "cell_type": "code",
      "execution_count": 28,
      "id": "bf09d7b9",
      "metadata": {
        "execution": {
          "iopub.execute_input": "2023-12-06T14:38:14.814712Z",
          "iopub.status.busy": "2023-12-06T14:38:14.814298Z",
          "iopub.status.idle": "2023-12-06T14:38:14.842859Z",
          "shell.execute_reply": "2023-12-06T14:38:14.841317Z"
        },
        "papermill": {
          "duration": 0.050151,
          "end_time": "2023-12-06T14:38:14.845452",
          "exception": false,
          "start_time": "2023-12-06T14:38:14.795301",
          "status": "completed"
        },
        "tags": [],
        "colab": {
          "base_uri": "https://localhost:8080/",
          "height": 424
        },
        "id": "bf09d7b9",
        "outputId": "5f5479e4-c031-43bb-f8ae-2ee04ce38fe7"
      },
      "outputs": [
        {
          "output_type": "execute_result",
          "data": {
            "text/plain": [
              "      price  num_beds  num_bedrooms  ratingg  num_comments  location_Jeddah  \\\n",
              "2     162.0         2             2     5.00             3                0   \n",
              "7     176.0         2             2     4.93            67                0   \n",
              "9     105.0         3             2     4.88            33                0   \n",
              "15     57.0         1             1     4.90            21                1   \n",
              "17    115.0         3             2     5.00             5                0   \n",
              "...     ...       ...           ...      ...           ...              ...   \n",
              "3592  139.0         4             2     5.00             3                0   \n",
              "3594  111.0         5             3     5.00             4                1   \n",
              "3595   91.0         3             2     5.00            11                0   \n",
              "3598  133.0         3             2     4.81            16                0   \n",
              "3599  173.0         1             1     5.00            10                0   \n",
              "\n",
              "      location_King Abdullah  location_Makkah  location_Riyadh  \\\n",
              "2                          0                0                1   \n",
              "7                          0                0                1   \n",
              "9                          0                0                1   \n",
              "15                         0                0                0   \n",
              "17                         0                0                1   \n",
              "...                      ...              ...              ...   \n",
              "3592                       0                0                1   \n",
              "3594                       0                0                0   \n",
              "3595                       0                0                1   \n",
              "3598                       0                0                1   \n",
              "3599                       0                0                1   \n",
              "\n",
              "      location_others  \n",
              "2                   0  \n",
              "7                   0  \n",
              "9                   0  \n",
              "15                  0  \n",
              "17                  0  \n",
              "...               ...  \n",
              "3592                0  \n",
              "3594                0  \n",
              "3595                0  \n",
              "3598                0  \n",
              "3599                0  \n",
              "\n",
              "[1805 rows x 10 columns]"
            ],
            "text/html": [
              "\n",
              "  <div id=\"df-a751b951-eeb1-476a-b8e4-bc1935174a37\" class=\"colab-df-container\">\n",
              "    <div>\n",
              "<style scoped>\n",
              "    .dataframe tbody tr th:only-of-type {\n",
              "        vertical-align: middle;\n",
              "    }\n",
              "\n",
              "    .dataframe tbody tr th {\n",
              "        vertical-align: top;\n",
              "    }\n",
              "\n",
              "    .dataframe thead th {\n",
              "        text-align: right;\n",
              "    }\n",
              "</style>\n",
              "<table border=\"1\" class=\"dataframe\">\n",
              "  <thead>\n",
              "    <tr style=\"text-align: right;\">\n",
              "      <th></th>\n",
              "      <th>price</th>\n",
              "      <th>num_beds</th>\n",
              "      <th>num_bedrooms</th>\n",
              "      <th>ratingg</th>\n",
              "      <th>num_comments</th>\n",
              "      <th>location_Jeddah</th>\n",
              "      <th>location_King Abdullah</th>\n",
              "      <th>location_Makkah</th>\n",
              "      <th>location_Riyadh</th>\n",
              "      <th>location_others</th>\n",
              "    </tr>\n",
              "  </thead>\n",
              "  <tbody>\n",
              "    <tr>\n",
              "      <th>2</th>\n",
              "      <td>162.0</td>\n",
              "      <td>2</td>\n",
              "      <td>2</td>\n",
              "      <td>5.00</td>\n",
              "      <td>3</td>\n",
              "      <td>0</td>\n",
              "      <td>0</td>\n",
              "      <td>0</td>\n",
              "      <td>1</td>\n",
              "      <td>0</td>\n",
              "    </tr>\n",
              "    <tr>\n",
              "      <th>7</th>\n",
              "      <td>176.0</td>\n",
              "      <td>2</td>\n",
              "      <td>2</td>\n",
              "      <td>4.93</td>\n",
              "      <td>67</td>\n",
              "      <td>0</td>\n",
              "      <td>0</td>\n",
              "      <td>0</td>\n",
              "      <td>1</td>\n",
              "      <td>0</td>\n",
              "    </tr>\n",
              "    <tr>\n",
              "      <th>9</th>\n",
              "      <td>105.0</td>\n",
              "      <td>3</td>\n",
              "      <td>2</td>\n",
              "      <td>4.88</td>\n",
              "      <td>33</td>\n",
              "      <td>0</td>\n",
              "      <td>0</td>\n",
              "      <td>0</td>\n",
              "      <td>1</td>\n",
              "      <td>0</td>\n",
              "    </tr>\n",
              "    <tr>\n",
              "      <th>15</th>\n",
              "      <td>57.0</td>\n",
              "      <td>1</td>\n",
              "      <td>1</td>\n",
              "      <td>4.90</td>\n",
              "      <td>21</td>\n",
              "      <td>1</td>\n",
              "      <td>0</td>\n",
              "      <td>0</td>\n",
              "      <td>0</td>\n",
              "      <td>0</td>\n",
              "    </tr>\n",
              "    <tr>\n",
              "      <th>17</th>\n",
              "      <td>115.0</td>\n",
              "      <td>3</td>\n",
              "      <td>2</td>\n",
              "      <td>5.00</td>\n",
              "      <td>5</td>\n",
              "      <td>0</td>\n",
              "      <td>0</td>\n",
              "      <td>0</td>\n",
              "      <td>1</td>\n",
              "      <td>0</td>\n",
              "    </tr>\n",
              "    <tr>\n",
              "      <th>...</th>\n",
              "      <td>...</td>\n",
              "      <td>...</td>\n",
              "      <td>...</td>\n",
              "      <td>...</td>\n",
              "      <td>...</td>\n",
              "      <td>...</td>\n",
              "      <td>...</td>\n",
              "      <td>...</td>\n",
              "      <td>...</td>\n",
              "      <td>...</td>\n",
              "    </tr>\n",
              "    <tr>\n",
              "      <th>3592</th>\n",
              "      <td>139.0</td>\n",
              "      <td>4</td>\n",
              "      <td>2</td>\n",
              "      <td>5.00</td>\n",
              "      <td>3</td>\n",
              "      <td>0</td>\n",
              "      <td>0</td>\n",
              "      <td>0</td>\n",
              "      <td>1</td>\n",
              "      <td>0</td>\n",
              "    </tr>\n",
              "    <tr>\n",
              "      <th>3594</th>\n",
              "      <td>111.0</td>\n",
              "      <td>5</td>\n",
              "      <td>3</td>\n",
              "      <td>5.00</td>\n",
              "      <td>4</td>\n",
              "      <td>1</td>\n",
              "      <td>0</td>\n",
              "      <td>0</td>\n",
              "      <td>0</td>\n",
              "      <td>0</td>\n",
              "    </tr>\n",
              "    <tr>\n",
              "      <th>3595</th>\n",
              "      <td>91.0</td>\n",
              "      <td>3</td>\n",
              "      <td>2</td>\n",
              "      <td>5.00</td>\n",
              "      <td>11</td>\n",
              "      <td>0</td>\n",
              "      <td>0</td>\n",
              "      <td>0</td>\n",
              "      <td>1</td>\n",
              "      <td>0</td>\n",
              "    </tr>\n",
              "    <tr>\n",
              "      <th>3598</th>\n",
              "      <td>133.0</td>\n",
              "      <td>3</td>\n",
              "      <td>2</td>\n",
              "      <td>4.81</td>\n",
              "      <td>16</td>\n",
              "      <td>0</td>\n",
              "      <td>0</td>\n",
              "      <td>0</td>\n",
              "      <td>1</td>\n",
              "      <td>0</td>\n",
              "    </tr>\n",
              "    <tr>\n",
              "      <th>3599</th>\n",
              "      <td>173.0</td>\n",
              "      <td>1</td>\n",
              "      <td>1</td>\n",
              "      <td>5.00</td>\n",
              "      <td>10</td>\n",
              "      <td>0</td>\n",
              "      <td>0</td>\n",
              "      <td>0</td>\n",
              "      <td>1</td>\n",
              "      <td>0</td>\n",
              "    </tr>\n",
              "  </tbody>\n",
              "</table>\n",
              "<p>1805 rows × 10 columns</p>\n",
              "</div>\n",
              "    <div class=\"colab-df-buttons\">\n",
              "\n",
              "  <div class=\"colab-df-container\">\n",
              "    <button class=\"colab-df-convert\" onclick=\"convertToInteractive('df-a751b951-eeb1-476a-b8e4-bc1935174a37')\"\n",
              "            title=\"Convert this dataframe to an interactive table.\"\n",
              "            style=\"display:none;\">\n",
              "\n",
              "  <svg xmlns=\"http://www.w3.org/2000/svg\" height=\"24px\" viewBox=\"0 -960 960 960\">\n",
              "    <path d=\"M120-120v-720h720v720H120Zm60-500h600v-160H180v160Zm220 220h160v-160H400v160Zm0 220h160v-160H400v160ZM180-400h160v-160H180v160Zm440 0h160v-160H620v160ZM180-180h160v-160H180v160Zm440 0h160v-160H620v160Z\"/>\n",
              "  </svg>\n",
              "    </button>\n",
              "\n",
              "  <style>\n",
              "    .colab-df-container {\n",
              "      display:flex;\n",
              "      gap: 12px;\n",
              "    }\n",
              "\n",
              "    .colab-df-convert {\n",
              "      background-color: #E8F0FE;\n",
              "      border: none;\n",
              "      border-radius: 50%;\n",
              "      cursor: pointer;\n",
              "      display: none;\n",
              "      fill: #1967D2;\n",
              "      height: 32px;\n",
              "      padding: 0 0 0 0;\n",
              "      width: 32px;\n",
              "    }\n",
              "\n",
              "    .colab-df-convert:hover {\n",
              "      background-color: #E2EBFA;\n",
              "      box-shadow: 0px 1px 2px rgba(60, 64, 67, 0.3), 0px 1px 3px 1px rgba(60, 64, 67, 0.15);\n",
              "      fill: #174EA6;\n",
              "    }\n",
              "\n",
              "    .colab-df-buttons div {\n",
              "      margin-bottom: 4px;\n",
              "    }\n",
              "\n",
              "    [theme=dark] .colab-df-convert {\n",
              "      background-color: #3B4455;\n",
              "      fill: #D2E3FC;\n",
              "    }\n",
              "\n",
              "    [theme=dark] .colab-df-convert:hover {\n",
              "      background-color: #434B5C;\n",
              "      box-shadow: 0px 1px 3px 1px rgba(0, 0, 0, 0.15);\n",
              "      filter: drop-shadow(0px 1px 2px rgba(0, 0, 0, 0.3));\n",
              "      fill: #FFFFFF;\n",
              "    }\n",
              "  </style>\n",
              "\n",
              "    <script>\n",
              "      const buttonEl =\n",
              "        document.querySelector('#df-a751b951-eeb1-476a-b8e4-bc1935174a37 button.colab-df-convert');\n",
              "      buttonEl.style.display =\n",
              "        google.colab.kernel.accessAllowed ? 'block' : 'none';\n",
              "\n",
              "      async function convertToInteractive(key) {\n",
              "        const element = document.querySelector('#df-a751b951-eeb1-476a-b8e4-bc1935174a37');\n",
              "        const dataTable =\n",
              "          await google.colab.kernel.invokeFunction('convertToInteractive',\n",
              "                                                    [key], {});\n",
              "        if (!dataTable) return;\n",
              "\n",
              "        const docLinkHtml = 'Like what you see? Visit the ' +\n",
              "          '<a target=\"_blank\" href=https://colab.research.google.com/notebooks/data_table.ipynb>data table notebook</a>'\n",
              "          + ' to learn more about interactive tables.';\n",
              "        element.innerHTML = '';\n",
              "        dataTable['output_type'] = 'display_data';\n",
              "        await google.colab.output.renderOutput(dataTable, element);\n",
              "        const docLink = document.createElement('div');\n",
              "        docLink.innerHTML = docLinkHtml;\n",
              "        element.appendChild(docLink);\n",
              "      }\n",
              "    </script>\n",
              "  </div>\n",
              "\n",
              "\n",
              "<div id=\"df-27eafd79-7fae-4f5a-b6f6-651bb2980834\">\n",
              "  <button class=\"colab-df-quickchart\" onclick=\"quickchart('df-27eafd79-7fae-4f5a-b6f6-651bb2980834')\"\n",
              "            title=\"Suggest charts\"\n",
              "            style=\"display:none;\">\n",
              "\n",
              "<svg xmlns=\"http://www.w3.org/2000/svg\" height=\"24px\"viewBox=\"0 0 24 24\"\n",
              "     width=\"24px\">\n",
              "    <g>\n",
              "        <path d=\"M19 3H5c-1.1 0-2 .9-2 2v14c0 1.1.9 2 2 2h14c1.1 0 2-.9 2-2V5c0-1.1-.9-2-2-2zM9 17H7v-7h2v7zm4 0h-2V7h2v10zm4 0h-2v-4h2v4z\"/>\n",
              "    </g>\n",
              "</svg>\n",
              "  </button>\n",
              "\n",
              "<style>\n",
              "  .colab-df-quickchart {\n",
              "      --bg-color: #E8F0FE;\n",
              "      --fill-color: #1967D2;\n",
              "      --hover-bg-color: #E2EBFA;\n",
              "      --hover-fill-color: #174EA6;\n",
              "      --disabled-fill-color: #AAA;\n",
              "      --disabled-bg-color: #DDD;\n",
              "  }\n",
              "\n",
              "  [theme=dark] .colab-df-quickchart {\n",
              "      --bg-color: #3B4455;\n",
              "      --fill-color: #D2E3FC;\n",
              "      --hover-bg-color: #434B5C;\n",
              "      --hover-fill-color: #FFFFFF;\n",
              "      --disabled-bg-color: #3B4455;\n",
              "      --disabled-fill-color: #666;\n",
              "  }\n",
              "\n",
              "  .colab-df-quickchart {\n",
              "    background-color: var(--bg-color);\n",
              "    border: none;\n",
              "    border-radius: 50%;\n",
              "    cursor: pointer;\n",
              "    display: none;\n",
              "    fill: var(--fill-color);\n",
              "    height: 32px;\n",
              "    padding: 0;\n",
              "    width: 32px;\n",
              "  }\n",
              "\n",
              "  .colab-df-quickchart:hover {\n",
              "    background-color: var(--hover-bg-color);\n",
              "    box-shadow: 0 1px 2px rgba(60, 64, 67, 0.3), 0 1px 3px 1px rgba(60, 64, 67, 0.15);\n",
              "    fill: var(--button-hover-fill-color);\n",
              "  }\n",
              "\n",
              "  .colab-df-quickchart-complete:disabled,\n",
              "  .colab-df-quickchart-complete:disabled:hover {\n",
              "    background-color: var(--disabled-bg-color);\n",
              "    fill: var(--disabled-fill-color);\n",
              "    box-shadow: none;\n",
              "  }\n",
              "\n",
              "  .colab-df-spinner {\n",
              "    border: 2px solid var(--fill-color);\n",
              "    border-color: transparent;\n",
              "    border-bottom-color: var(--fill-color);\n",
              "    animation:\n",
              "      spin 1s steps(1) infinite;\n",
              "  }\n",
              "\n",
              "  @keyframes spin {\n",
              "    0% {\n",
              "      border-color: transparent;\n",
              "      border-bottom-color: var(--fill-color);\n",
              "      border-left-color: var(--fill-color);\n",
              "    }\n",
              "    20% {\n",
              "      border-color: transparent;\n",
              "      border-left-color: var(--fill-color);\n",
              "      border-top-color: var(--fill-color);\n",
              "    }\n",
              "    30% {\n",
              "      border-color: transparent;\n",
              "      border-left-color: var(--fill-color);\n",
              "      border-top-color: var(--fill-color);\n",
              "      border-right-color: var(--fill-color);\n",
              "    }\n",
              "    40% {\n",
              "      border-color: transparent;\n",
              "      border-right-color: var(--fill-color);\n",
              "      border-top-color: var(--fill-color);\n",
              "    }\n",
              "    60% {\n",
              "      border-color: transparent;\n",
              "      border-right-color: var(--fill-color);\n",
              "    }\n",
              "    80% {\n",
              "      border-color: transparent;\n",
              "      border-right-color: var(--fill-color);\n",
              "      border-bottom-color: var(--fill-color);\n",
              "    }\n",
              "    90% {\n",
              "      border-color: transparent;\n",
              "      border-bottom-color: var(--fill-color);\n",
              "    }\n",
              "  }\n",
              "</style>\n",
              "\n",
              "  <script>\n",
              "    async function quickchart(key) {\n",
              "      const quickchartButtonEl =\n",
              "        document.querySelector('#' + key + ' button');\n",
              "      quickchartButtonEl.disabled = true;  // To prevent multiple clicks.\n",
              "      quickchartButtonEl.classList.add('colab-df-spinner');\n",
              "      try {\n",
              "        const charts = await google.colab.kernel.invokeFunction(\n",
              "            'suggestCharts', [key], {});\n",
              "      } catch (error) {\n",
              "        console.error('Error during call to suggestCharts:', error);\n",
              "      }\n",
              "      quickchartButtonEl.classList.remove('colab-df-spinner');\n",
              "      quickchartButtonEl.classList.add('colab-df-quickchart-complete');\n",
              "    }\n",
              "    (() => {\n",
              "      let quickchartButtonEl =\n",
              "        document.querySelector('#df-27eafd79-7fae-4f5a-b6f6-651bb2980834 button');\n",
              "      quickchartButtonEl.style.display =\n",
              "        google.colab.kernel.accessAllowed ? 'block' : 'none';\n",
              "    })();\n",
              "  </script>\n",
              "</div>\n",
              "    </div>\n",
              "  </div>\n"
            ]
          },
          "metadata": {},
          "execution_count": 28
        }
      ],
      "source": [
        "data5_encoded = pd.get_dummies(data4, columns=['location'], prefix='location')\n",
        "data5_encoded"
      ]
    },
    {
      "cell_type": "markdown",
      "id": "f692ff3c",
      "metadata": {
        "papermill": {
          "duration": 0.018074,
          "end_time": "2023-12-06T14:38:14.889804",
          "exception": false,
          "start_time": "2023-12-06T14:38:14.871730",
          "status": "completed"
        },
        "tags": [],
        "id": "f692ff3c"
      },
      "source": [
        "* **check if there Replace spaces with NaN**"
      ]
    },
    {
      "cell_type": "code",
      "execution_count": 29,
      "id": "1d1ffb8d",
      "metadata": {
        "execution": {
          "iopub.execute_input": "2023-12-06T14:38:14.931185Z",
          "iopub.status.busy": "2023-12-06T14:38:14.930420Z",
          "iopub.status.idle": "2023-12-06T14:38:14.945844Z",
          "shell.execute_reply": "2023-12-06T14:38:14.944129Z"
        },
        "papermill": {
          "duration": 0.037895,
          "end_time": "2023-12-06T14:38:14.948187",
          "exception": false,
          "start_time": "2023-12-06T14:38:14.910292",
          "status": "completed"
        },
        "tags": [],
        "colab": {
          "base_uri": "https://localhost:8080/"
        },
        "id": "1d1ffb8d",
        "outputId": "aeb26f52-a942-4831-927e-6512378bbfaa"
      },
      "outputs": [
        {
          "output_type": "stream",
          "name": "stdout",
          "text": [
            "DataFrame after removing rows with null values or spaces:\n",
            "      price  num_beds  num_bedrooms  ratingg  num_comments  location_Jeddah  \\\n",
            "2     162.0         2             2     5.00             3                0   \n",
            "7     176.0         2             2     4.93            67                0   \n",
            "9     105.0         3             2     4.88            33                0   \n",
            "15     57.0         1             1     4.90            21                1   \n",
            "17    115.0         3             2     5.00             5                0   \n",
            "...     ...       ...           ...      ...           ...              ...   \n",
            "3592  139.0         4             2     5.00             3                0   \n",
            "3594  111.0         5             3     5.00             4                1   \n",
            "3595   91.0         3             2     5.00            11                0   \n",
            "3598  133.0         3             2     4.81            16                0   \n",
            "3599  173.0         1             1     5.00            10                0   \n",
            "\n",
            "      location_King Abdullah  location_Makkah  location_Riyadh  \\\n",
            "2                          0                0                1   \n",
            "7                          0                0                1   \n",
            "9                          0                0                1   \n",
            "15                         0                0                0   \n",
            "17                         0                0                1   \n",
            "...                      ...              ...              ...   \n",
            "3592                       0                0                1   \n",
            "3594                       0                0                0   \n",
            "3595                       0                0                1   \n",
            "3598                       0                0                1   \n",
            "3599                       0                0                1   \n",
            "\n",
            "      location_others  \n",
            "2                   0  \n",
            "7                   0  \n",
            "9                   0  \n",
            "15                  0  \n",
            "17                  0  \n",
            "...               ...  \n",
            "3592                0  \n",
            "3594                0  \n",
            "3595                0  \n",
            "3598                0  \n",
            "3599                0  \n",
            "\n",
            "[1805 rows x 10 columns]\n"
          ]
        }
      ],
      "source": [
        "# Replace spaces with NaN\n",
        "data5_encoded.replace(' ', pd.NA, inplace=True)\n",
        "# Drop rows with any null values\n",
        "data5_encoded  = data5_encoded.dropna()\n",
        "# Display the cleaned DataFrame\n",
        "print(\"DataFrame after removing rows with null values or spaces:\")\n",
        "print(data5_encoded)"
      ]
    },
    {
      "cell_type": "markdown",
      "id": "8d86c41b",
      "metadata": {
        "papermill": {
          "duration": 0.018481,
          "end_time": "2023-12-06T14:38:14.986795",
          "exception": false,
          "start_time": "2023-12-06T14:38:14.968314",
          "status": "completed"
        },
        "tags": [],
        "id": "8d86c41b"
      },
      "source": [
        "* **convert the value of the encoded columns from True to 1 and False to 0**"
      ]
    },
    {
      "cell_type": "code",
      "execution_count": 30,
      "id": "93627117",
      "metadata": {
        "execution": {
          "iopub.execute_input": "2023-12-06T14:38:15.024940Z",
          "iopub.status.busy": "2023-12-06T14:38:15.024513Z",
          "iopub.status.idle": "2023-12-06T14:38:15.032409Z",
          "shell.execute_reply": "2023-12-06T14:38:15.031524Z"
        },
        "papermill": {
          "duration": 0.029783,
          "end_time": "2023-12-06T14:38:15.034794",
          "exception": false,
          "start_time": "2023-12-06T14:38:15.005011",
          "status": "completed"
        },
        "tags": [],
        "id": "93627117"
      },
      "outputs": [],
      "source": [
        "# Assuming you have a DataFrame named data5_encoded\n",
        "data5_encoded[['location_Jeddah', 'location_King Abdullah', 'location_Makkah', 'location_Riyadh', 'location_others']] = data5_encoded[['location_Jeddah', 'location_King Abdullah', 'location_Makkah', 'location_Riyadh', 'location_others']].astype(int)"
      ]
    },
    {
      "cell_type": "markdown",
      "id": "1481e1c3",
      "metadata": {
        "papermill": {
          "duration": 0.017932,
          "end_time": "2023-12-06T14:38:15.071248",
          "exception": false,
          "start_time": "2023-12-06T14:38:15.053316",
          "status": "completed"
        },
        "tags": [],
        "id": "1481e1c3"
      },
      "source": [
        "* **convert the type of the num beds and num bedrooms**"
      ]
    },
    {
      "cell_type": "code",
      "execution_count": 31,
      "id": "cbfd4d27",
      "metadata": {
        "execution": {
          "iopub.execute_input": "2023-12-06T14:38:15.109246Z",
          "iopub.status.busy": "2023-12-06T14:38:15.108878Z",
          "iopub.status.idle": "2023-12-06T14:38:15.116285Z",
          "shell.execute_reply": "2023-12-06T14:38:15.114750Z"
        },
        "papermill": {
          "duration": 0.029582,
          "end_time": "2023-12-06T14:38:15.118801",
          "exception": false,
          "start_time": "2023-12-06T14:38:15.089219",
          "status": "completed"
        },
        "tags": [],
        "id": "cbfd4d27"
      },
      "outputs": [],
      "source": [
        "data5_encoded['num_beds'] = data5_encoded['num_beds'].astype(int)\n",
        "data5_encoded['num_bedrooms'] = data5_encoded['num_bedrooms'].astype(int)"
      ]
    },
    {
      "cell_type": "markdown",
      "id": "aa0b6b37",
      "metadata": {
        "papermill": {
          "duration": 0.018405,
          "end_time": "2023-12-06T14:38:15.156083",
          "exception": false,
          "start_time": "2023-12-06T14:38:15.137678",
          "status": "completed"
        },
        "tags": [],
        "id": "aa0b6b37"
      },
      "source": [
        "**show the corrlation between the columns**"
      ]
    },
    {
      "cell_type": "code",
      "execution_count": null,
      "id": "ac913b8c",
      "metadata": {
        "execution": {
          "iopub.execute_input": "2023-12-06T14:38:15.195995Z",
          "iopub.status.busy": "2023-12-06T14:38:15.195020Z",
          "iopub.status.idle": "2023-12-06T14:38:15.893705Z",
          "shell.execute_reply": "2023-12-06T14:38:15.892455Z"
        },
        "papermill": {
          "duration": 0.721991,
          "end_time": "2023-12-06T14:38:15.896960",
          "exception": false,
          "start_time": "2023-12-06T14:38:15.174969",
          "status": "completed"
        },
        "tags": [],
        "id": "ac913b8c",
        "outputId": "fcf6d047-0132-41fb-da7f-51ac4a416ba4"
      },
      "outputs": [
        {
          "data": {
            "image/png": "[encoded data removed]",
            "text/plain": [
              "<Figure size 1000x800 with 2 Axes>"
            ]
          },
          "metadata": {},
          "output_type": "display_data"
        }
      ],
      "source": [
        "import seaborn as sns\n",
        "import matplotlib.pyplot as plt\n",
        "\n",
        "\n",
        "# Create a correlation matrix\n",
        "correlation_matrix = data5_encoded.corr()\n",
        "\n",
        "# Create a heatmap\n",
        "plt.figure(figsize=(10, 8))\n",
        "sns.heatmap(correlation_matrix, annot=True, cmap='coolwarm', linewidths=.5)\n",
        "plt.title('Correlation Matrix Heatmap')\n",
        "plt.show()\n"
      ]
    },
    {
      "cell_type": "code",
      "execution_count": null,
      "id": "89595b09",
      "metadata": {
        "execution": {
          "iopub.execute_input": "2023-12-06T14:38:15.939521Z",
          "iopub.status.busy": "2023-12-06T14:38:15.939092Z",
          "iopub.status.idle": "2023-12-06T14:38:15.954817Z",
          "shell.execute_reply": "2023-12-06T14:38:15.953690Z"
        },
        "papermill": {
          "duration": 0.039695,
          "end_time": "2023-12-06T14:38:15.957089",
          "exception": false,
          "start_time": "2023-12-06T14:38:15.917394",
          "status": "completed"
        },
        "tags": [],
        "id": "89595b09",
        "outputId": "7f1c92f9-8569-4195-b9c1-01a288722e67"
      },
      "outputs": [
        {
          "data": {
            "text/html": [
              "<div>\n",
              "<style scoped>\n",
              "    .dataframe tbody tr th:only-of-type {\n",
              "        vertical-align: middle;\n",
              "    }\n",
              "\n",
              "    .dataframe tbody tr th {\n",
              "        vertical-align: top;\n",
              "    }\n",
              "\n",
              "    .dataframe thead th {\n",
              "        text-align: right;\n",
              "    }\n",
              "</style>\n",
              "<table border=\"1\" class=\"dataframe\">\n",
              "  <thead>\n",
              "    <tr style=\"text-align: right;\">\n",
              "      <th></th>\n",
              "      <th>num_beds</th>\n",
              "      <th>num_bedrooms</th>\n",
              "      <th>ratingg</th>\n",
              "      <th>num_comments</th>\n",
              "      <th>location_Jeddah</th>\n",
              "      <th>location_King Abdullah</th>\n",
              "      <th>location_Makkah</th>\n",
              "      <th>location_Riyadh</th>\n",
              "      <th>location_others</th>\n",
              "    </tr>\n",
              "  </thead>\n",
              "  <tbody>\n",
              "    <tr>\n",
              "      <th>2</th>\n",
              "      <td>2</td>\n",
              "      <td>2</td>\n",
              "      <td>5.00</td>\n",
              "      <td>3</td>\n",
              "      <td>0</td>\n",
              "      <td>0</td>\n",
              "      <td>0</td>\n",
              "      <td>1</td>\n",
              "      <td>0</td>\n",
              "    </tr>\n",
              "    <tr>\n",
              "      <th>7</th>\n",
              "      <td>2</td>\n",
              "      <td>2</td>\n",
              "      <td>4.93</td>\n",
              "      <td>67</td>\n",
              "      <td>0</td>\n",
              "      <td>0</td>\n",
              "      <td>0</td>\n",
              "      <td>1</td>\n",
              "      <td>0</td>\n",
              "    </tr>\n",
              "    <tr>\n",
              "      <th>9</th>\n",
              "      <td>3</td>\n",
              "      <td>2</td>\n",
              "      <td>4.88</td>\n",
              "      <td>33</td>\n",
              "      <td>0</td>\n",
              "      <td>0</td>\n",
              "      <td>0</td>\n",
              "      <td>1</td>\n",
              "      <td>0</td>\n",
              "    </tr>\n",
              "  </tbody>\n",
              "</table>\n",
              "</div>"
            ],
            "text/plain": [
              "   num_beds  num_bedrooms  ratingg  num_comments  location_Jeddah  \\\n",
              "2         2             2     5.00             3                0   \n",
              "7         2             2     4.93            67                0   \n",
              "9         3             2     4.88            33                0   \n",
              "\n",
              "   location_King Abdullah  location_Makkah  location_Riyadh  location_others  \n",
              "2                       0                0                1                0  \n",
              "7                       0                0                1                0  \n",
              "9                       0                0                1                0  "
            ]
          },
          "execution_count": 32,
          "metadata": {},
          "output_type": "execute_result"
        }
      ],
      "source": [
        "X = data5_encoded.drop(['price'] , axis='columns')\n",
        "X.head(3)"
      ]
    },
    {
      "cell_type": "code",
      "execution_count": null,
      "id": "9aafd648",
      "metadata": {
        "execution": {
          "iopub.execute_input": "2023-12-06T14:38:15.999977Z",
          "iopub.status.busy": "2023-12-06T14:38:15.999115Z",
          "iopub.status.idle": "2023-12-06T14:38:16.008454Z",
          "shell.execute_reply": "2023-12-06T14:38:16.007606Z"
        },
        "papermill": {
          "duration": 0.033428,
          "end_time": "2023-12-06T14:38:16.010714",
          "exception": false,
          "start_time": "2023-12-06T14:38:15.977286",
          "status": "completed"
        },
        "tags": [],
        "id": "9aafd648",
        "outputId": "e875de17-59a9-4c03-ab42-23b93a7277bb"
      },
      "outputs": [
        {
          "data": {
            "text/plain": [
              "2    162.0\n",
              "7    176.0\n",
              "9    105.0\n",
              "Name: price, dtype: float64"
            ]
          },
          "execution_count": 33,
          "metadata": {},
          "output_type": "execute_result"
        }
      ],
      "source": [
        "y = data5_encoded.price\n",
        "y.head(3)"
      ]
    },
    {
      "cell_type": "code",
      "execution_count": null,
      "id": "8a784a9c",
      "metadata": {
        "execution": {
          "iopub.execute_input": "2023-12-06T14:38:16.055064Z",
          "iopub.status.busy": "2023-12-06T14:38:16.054168Z",
          "iopub.status.idle": "2023-12-06T14:38:16.364242Z",
          "shell.execute_reply": "2023-12-06T14:38:16.362945Z"
        },
        "papermill": {
          "duration": 0.335516,
          "end_time": "2023-12-06T14:38:16.367077",
          "exception": false,
          "start_time": "2023-12-06T14:38:16.031561",
          "status": "completed"
        },
        "tags": [],
        "id": "8a784a9c"
      },
      "outputs": [],
      "source": [
        "from sklearn.model_selection import train_test_split\n",
        "X_train, X_test, y_train, y_test = train_test_split(X,y,test_size=0.2 ,  random_state=42)"
      ]
    },
    {
      "cell_type": "markdown",
      "id": "8204232d",
      "metadata": {
        "papermill": {
          "duration": 0.020186,
          "end_time": "2023-12-06T14:38:16.408580",
          "exception": false,
          "start_time": "2023-12-06T14:38:16.388394",
          "status": "completed"
        },
        "tags": [],
        "id": "8204232d"
      },
      "source": [
        "# Evaluate model  performance"
      ]
    },
    {
      "cell_type": "code",
      "execution_count": null,
      "id": "1e1db475",
      "metadata": {
        "execution": {
          "iopub.execute_input": "2023-12-06T14:38:16.454368Z",
          "iopub.status.busy": "2023-12-06T14:38:16.453681Z",
          "iopub.status.idle": "2023-12-06T14:38:17.525761Z",
          "shell.execute_reply": "2023-12-06T14:38:17.524583Z"
        },
        "papermill": {
          "duration": 1.098032,
          "end_time": "2023-12-06T14:38:17.527951",
          "exception": false,
          "start_time": "2023-12-06T14:38:16.429919",
          "status": "completed"
        },
        "tags": [],
        "id": "1e1db475",
        "outputId": "981aef04-5e2d-43a4-b1f2-414c51da5d66"
      },
      "outputs": [
        {
          "name": "stdout",
          "output_type": "stream",
          "text": [
            "Linear Regression:\n",
            "Mean Squared Error: 635.4651264050899\n",
            "R^2 Score: 0.3658874129080978\n",
            "\n",
            "K-Nearest Neighbors:\n",
            "Mean Squared Error: 158.34626038781164\n",
            "R^2 Score: 0.8419907676147829\n",
            "\n",
            "Decision Tree:\n",
            "Mean Squared Error: 151.32413446223867\n",
            "R^2 Score: 0.8489979474780436\n",
            "\n",
            "Random Forest:\n",
            "Mean Squared Error: 87.16940510419228\n",
            "R^2 Score: 0.9130161283616292\n",
            "\n",
            "XGBoost:\n",
            "Mean Squared Error: 114.74648161885897\n",
            "R^2 Score: 0.885497747562241\n"
          ]
        }
      ],
      "source": [
        "import pandas as pd\n",
        "from sklearn.model_selection import train_test_split\n",
        "from sklearn.linear_model import LinearRegression\n",
        "from sklearn.neighbors import KNeighborsRegressor\n",
        "from sklearn.tree import DecisionTreeRegressor\n",
        "from sklearn.ensemble import RandomForestRegressor\n",
        "from xgboost import XGBRegressor\n",
        "from sklearn.metrics import mean_squared_error, r2_score\n",
        "import matplotlib.pyplot as plt\n",
        "import seaborn as sns\n",
        "\n",
        "\n",
        "# Train Linear Regression model\n",
        "lr_model = LinearRegression()\n",
        "lr_model.fit(X_train, y_train)\n",
        "lr_predictions = lr_model.predict(X_test)\n",
        "\n",
        "# Train K-Nearest Neighbors model\n",
        "knn_model = KNeighborsRegressor()\n",
        "knn_model.fit(X_train, y_train)\n",
        "knn_predictions = knn_model.predict(X_test)\n",
        "\n",
        "# Train Decision Tree model\n",
        "dt_model = DecisionTreeRegressor()\n",
        "dt_model.fit(X_train, y_train)\n",
        "dt_predictions = dt_model.predict(X_test)\n",
        "\n",
        "# Train Random Forest model\n",
        "rf_model = RandomForestRegressor()\n",
        "rf_model.fit(X_train, y_train)\n",
        "rf_predictions = rf_model.predict(X_test)\n",
        "\n",
        "# Train XGBoost model\n",
        "xgb_model = XGBRegressor()\n",
        "xgb_model.fit(X_train, y_train)\n",
        "xgb_predictions = xgb_model.predict(X_test)\n",
        "\n",
        "# Function to evaluate model performance\n",
        "def evaluate_model(model, predictions, y_true):\n",
        "    mse = mean_squared_error(y_true, predictions)\n",
        "    r2 = r2_score(y_true, predictions)\n",
        "    print(f\"Mean Squared Error: {mse}\")\n",
        "    print(f\"R^2 Score: {r2}\")\n",
        "\n",
        "# Evaluate models\n",
        "print(\"Linear Regression:\")\n",
        "evaluate_model(lr_model, lr_predictions, y_test)\n",
        "\n",
        "print(\"\\nK-Nearest Neighbors:\")\n",
        "evaluate_model(knn_model, knn_predictions, y_test)\n",
        "\n",
        "print(\"\\nDecision Tree:\")\n",
        "evaluate_model(dt_model, dt_predictions, y_test)\n",
        "\n",
        "print(\"\\nRandom Forest:\")\n",
        "evaluate_model(rf_model, rf_predictions, y_test)\n",
        "\n",
        "print(\"\\nXGBoost:\")\n",
        "evaluate_model(xgb_model, xgb_predictions, y_test)\n",
        "\n",
        "# Create a heatmap for correlation matrix of model predictions\n",
        "predictions_df = pd.DataFrame({'Linear Regression': lr_predictions,\n",
        "                                'K-Nearest Neighbors': knn_predictions,\n",
        "                                'Decision Tree': dt_predictions,\n",
        "                                'Random Forest': rf_predictions,\n",
        "                                'XGBoost': xgb_predictions})\n"
      ]
    },
    {
      "cell_type": "code",
      "execution_count": null,
      "id": "141c7a15",
      "metadata": {
        "execution": {
          "iopub.execute_input": "2023-12-06T14:38:17.571783Z",
          "iopub.status.busy": "2023-12-06T14:38:17.571144Z",
          "iopub.status.idle": "2023-12-06T14:38:17.978600Z",
          "shell.execute_reply": "2023-12-06T14:38:17.977584Z"
        },
        "papermill": {
          "duration": 0.432588,
          "end_time": "2023-12-06T14:38:17.981688",
          "exception": false,
          "start_time": "2023-12-06T14:38:17.549100",
          "status": "completed"
        },
        "tags": [],
        "id": "141c7a15",
        "outputId": "bb044f8c-5fa6-4baf-b3aa-d02353fab5aa"
      },
      "outputs": [
        {
          "data": {
            "image/png": "[encoded data removed]",
            "text/plain": [
              "<Figure size 1200x800 with 2 Axes>"
            ]
          },
          "metadata": {},
          "output_type": "display_data"
        }
      ],
      "source": [
        "plt.figure(figsize=(12, 8))\n",
        "sns.heatmap(predictions_df.corr(), annot=True, cmap='coolwarm', linewidths=.5)\n",
        "plt.title('Correlation Matrix of Model Predictions')\n",
        "plt.show()\n"
      ]
    },
    {
      "cell_type": "code",
      "execution_count": null,
      "id": "0ab54143",
      "metadata": {
        "execution": {
          "iopub.execute_input": "2023-12-06T14:38:18.028459Z",
          "iopub.status.busy": "2023-12-06T14:38:18.028053Z",
          "iopub.status.idle": "2023-12-06T14:38:18.359886Z",
          "shell.execute_reply": "2023-12-06T14:38:18.358513Z"
        },
        "papermill": {
          "duration": 0.358062,
          "end_time": "2023-12-06T14:38:18.362743",
          "exception": false,
          "start_time": "2023-12-06T14:38:18.004681",
          "status": "completed"
        },
        "tags": [],
        "id": "0ab54143",
        "outputId": "f469ebd7-bf5a-41b6-f1e0-bb660a660d73"
      },
      "outputs": [
        {
          "data": {
            "image/png": "[encoded data removed]",
            "text/plain": [
              "<Figure size 640x480 with 1 Axes>"
            ]
          },
          "metadata": {},
          "output_type": "display_data"
        }
      ],
      "source": [
        "# Optionally, plot predictions against true values\n",
        "plt.scatter(y_test, xgb_predictions, label='XGBoost Predictions')\n",
        "plt.xlabel('True Values')\n",
        "plt.ylabel('Predictions')\n",
        "plt.legend()\n",
        "plt.title('Predictions vs True Values')\n",
        "plt.show()\n"
      ]
    },
    {
      "cell_type": "code",
      "execution_count": null,
      "id": "e2c94e81",
      "metadata": {
        "papermill": {
          "duration": 0.021818,
          "end_time": "2023-12-06T14:38:18.407992",
          "exception": false,
          "start_time": "2023-12-06T14:38:18.386174",
          "status": "completed"
        },
        "tags": [],
        "id": "e2c94e81"
      },
      "outputs": [],
      "source": []
    }
  ],
  "metadata": {
    "kaggle": {
      "accelerator": "none",
      "dataSources": [
        {
          "datasetId": 2950452,
          "sourceId": 5081226,
          "sourceType": "datasetVersion"
        },
        {
          "datasetId": 3986292,
          "sourceId": 7137722,
          "sourceType": "datasetVersion"
        }
      ],
      "dockerImageVersionId": 30579,
      "isGpuEnabled": false,
      "isInternetEnabled": true,
      "language": "python",
      "sourceType": "notebook"
    },
    "kernelspec": {
      "display_name": "Python 3",
      "language": "python",
      "name": "python3"
    },
    "language_info": {
      "codemirror_mode": {
        "name": "ipython",
        "version": 3
      },
      "file_extension": ".py",
      "mimetype": "text/x-python",
      "name": "python",
      "nbconvert_exporter": "python",
      "pygments_lexer": "ipython3",
      "version": "3.10.12"
    },
    "papermill": {
      "default_parameters": {},
      "duration": 14.156391,
      "end_time": "2023-12-06T14:38:19.153637",
      "environment_variables": {},
      "exception": null,
      "input_path": "__notebook__.ipynb",
      "output_path": "__notebook__.ipynb",
      "parameters": {},
      "start_time": "2023-12-06T14:38:04.997246",
      "version": "2.4.0"
    },
    "colab": {
      "provenance": [],
      "include_colab_link": true
    }
  },
  "nbformat": 4,
  "nbformat_minor": 5
}